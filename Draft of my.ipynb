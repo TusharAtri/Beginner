{
 "cells": [
  {
   "cell_type": "markdown",
   "metadata": {},
   "source": [
    "## BEMM458 Final Assignment"
   ]
  },
  {
   "cell_type": "markdown",
   "metadata": {},
   "source": [
    "## You are a data scientist working for the European Union. There is an increasing concern inn  relation to the spread and amplification of misinformation on social media.\n",
    "\n",
    "## General management needs you to conduct an analysis of recent conversations posted on Twitter in relation to spain. You have to identify ongoing misinformation campaigns and profile those users contributing to the spread of misinformation.\n",
    "\n",
    "\n"
   ]
  },
  {
   "cell_type": "code",
   "execution_count": 27,
   "metadata": {},
   "outputs": [],
   "source": [
    "import pandas as pd\n",
    "import numpy as np\n",
    "import seaborn as sns"
   ]
  },
  {
   "cell_type": "code",
   "execution_count": 9,
   "metadata": {},
   "outputs": [
    {
     "data": {
      "text/html": [
       "<style>.container { width:100% !important; }</style>"
      ],
      "text/plain": [
       "<IPython.core.display.HTML object>"
      ]
     },
     "metadata": {},
     "output_type": "display_data"
    }
   ],
   "source": [
    "from IPython.core.display import display, HTML\n",
    "display(HTML(\"<style>.container { width:100% !important; }</style>\"))"
   ]
  },
  {
   "cell_type": "code",
   "execution_count": 151,
   "metadata": {},
   "outputs": [],
   "source": [
    "pd.set_option('display.max_rows', 120)"
   ]
  },
  {
   "cell_type": "code",
   "execution_count": 147,
   "metadata": {},
   "outputs": [],
   "source": [
    "#pd.set_option('display.float_format', '{:.3f}'.format)"
   ]
  },
  {
   "cell_type": "code",
   "execution_count": 152,
   "metadata": {},
   "outputs": [],
   "source": [
    "spainEnglishAll=pd.read_csv('C:/Users/ASUS/Documents/Exeter MSc in BA Learning/Programming for Business Analytics/BEMM458FinalAssignment1.csv')"
   ]
  },
  {
   "cell_type": "code",
   "execution_count": 153,
   "metadata": {},
   "outputs": [
    {
     "data": {
      "text/plain": [
       "Index(['Unnamed: 0', 'tweeet.id', 'tweet.text', 'tweet.created_at',\n",
       "       'tweet.author_id', 'tweet.lang', 'public_metrics.retweet_count',\n",
       "       'public_metrics.reply_count', 'public_metrics.like_count'],\n",
       "      dtype='object')"
      ]
     },
     "execution_count": 153,
     "metadata": {},
     "output_type": "execute_result"
    }
   ],
   "source": [
    "spainEnglishAll.columns"
   ]
  },
  {
   "cell_type": "code",
   "execution_count": 154,
   "metadata": {},
   "outputs": [
    {
     "data": {
      "text/html": [
       "<div>\n",
       "<style scoped>\n",
       "    .dataframe tbody tr th:only-of-type {\n",
       "        vertical-align: middle;\n",
       "    }\n",
       "\n",
       "    .dataframe tbody tr th {\n",
       "        vertical-align: top;\n",
       "    }\n",
       "\n",
       "    .dataframe thead th {\n",
       "        text-align: right;\n",
       "    }\n",
       "</style>\n",
       "<table border=\"1\" class=\"dataframe\">\n",
       "  <thead>\n",
       "    <tr style=\"text-align: right;\">\n",
       "      <th></th>\n",
       "      <th>Unnamed: 0</th>\n",
       "      <th>tweeet.id</th>\n",
       "      <th>tweet.text</th>\n",
       "      <th>tweet.created_at</th>\n",
       "      <th>tweet.author_id</th>\n",
       "      <th>tweet.lang</th>\n",
       "      <th>public_metrics.retweet_count</th>\n",
       "      <th>public_metrics.reply_count</th>\n",
       "      <th>public_metrics.like_count</th>\n",
       "    </tr>\n",
       "  </thead>\n",
       "  <tbody>\n",
       "    <tr>\n",
       "      <th>0</th>\n",
       "      <td>0</td>\n",
       "      <td>1461484086892140000</td>\n",
       "      <td>RT @ESPNFC: EURO 2008 top scorer: Villa ⚽️\\nWo...</td>\n",
       "      <td>2021-11-18 23:58:54+00:00</td>\n",
       "      <td>3239744421.000</td>\n",
       "      <td>en</td>\n",
       "      <td>1568.000</td>\n",
       "      <td>0.000</td>\n",
       "      <td>0.000</td>\n",
       "    </tr>\n",
       "    <tr>\n",
       "      <th>1</th>\n",
       "      <td>1</td>\n",
       "      <td>1461484079245840000</td>\n",
       "      <td>RT @MrGeepGeep: SOE is over and now is the tim...</td>\n",
       "      <td>2021-11-18 23:58:52+00:00</td>\n",
       "      <td>2312771653.000</td>\n",
       "      <td>en</td>\n",
       "      <td>38.000</td>\n",
       "      <td>0.000</td>\n",
       "      <td>0.000</td>\n",
       "    </tr>\n",
       "    <tr>\n",
       "      <th>2</th>\n",
       "      <td>2</td>\n",
       "      <td>1461484043187460000</td>\n",
       "      <td>RT @AnittaCrave: \"Envolver\" — by Anitta will d...</td>\n",
       "      <td>2021-11-18 23:58:43+00:00</td>\n",
       "      <td>1296857652677550080.000</td>\n",
       "      <td>en</td>\n",
       "      <td>90.000</td>\n",
       "      <td>0.000</td>\n",
       "      <td>0.000</td>\n",
       "    </tr>\n",
       "    <tr>\n",
       "      <th>3</th>\n",
       "      <td>3</td>\n",
       "      <td>1461483982105760000</td>\n",
       "      <td>Men jewelry  - Madrid, Spain \\n@GuilleRBRB htt...</td>\n",
       "      <td>2021-11-18 23:58:29+00:00</td>\n",
       "      <td>1071703322166480000.000</td>\n",
       "      <td>en</td>\n",
       "      <td>0.000</td>\n",
       "      <td>0.000</td>\n",
       "      <td>5.000</td>\n",
       "    </tr>\n",
       "    <tr>\n",
       "      <th>4</th>\n",
       "      <td>4</td>\n",
       "      <td>1461483978658120000</td>\n",
       "      <td>RT @Foreign_Cat: #Turkey &amp;amp; #Spain, partner...</td>\n",
       "      <td>2021-11-18 23:58:28+00:00</td>\n",
       "      <td>1142741725225650048.000</td>\n",
       "      <td>en</td>\n",
       "      <td>34.000</td>\n",
       "      <td>0.000</td>\n",
       "      <td>0.000</td>\n",
       "    </tr>\n",
       "    <tr>\n",
       "      <th>...</th>\n",
       "      <td>...</td>\n",
       "      <td>...</td>\n",
       "      <td>...</td>\n",
       "      <td>...</td>\n",
       "      <td>...</td>\n",
       "      <td>...</td>\n",
       "      <td>...</td>\n",
       "      <td>...</td>\n",
       "      <td>...</td>\n",
       "    </tr>\n",
       "    <tr>\n",
       "      <th>47545</th>\n",
       "      <td>47545</td>\n",
       "      <td>1461484434209780000</td>\n",
       "      <td>@only1womble @SimonJonesNews @pritipatel Someo...</td>\n",
       "      <td>2021-11-19 00:00:16+00:00</td>\n",
       "      <td>1733373504.000</td>\n",
       "      <td>en</td>\n",
       "      <td>0.000</td>\n",
       "      <td>0.000</td>\n",
       "      <td>0.000</td>\n",
       "    </tr>\n",
       "    <tr>\n",
       "      <th>47546</th>\n",
       "      <td>47546</td>\n",
       "      <td>1461484401712410000</td>\n",
       "      <td>RT @ancientorigins: A team of #scientists has ...</td>\n",
       "      <td>2021-11-19 00:00:09+00:00</td>\n",
       "      <td>100887413.000</td>\n",
       "      <td>en</td>\n",
       "      <td>18.000</td>\n",
       "      <td>0.000</td>\n",
       "      <td>0.000</td>\n",
       "    </tr>\n",
       "    <tr>\n",
       "      <th>47547</th>\n",
       "      <td>47547</td>\n",
       "      <td>1461484391255970000</td>\n",
       "      <td>On #Friday Amazing time in #SabatiniGardens #M...</td>\n",
       "      <td>2021-11-19 00:00:06+00:00</td>\n",
       "      <td>995441471938579968.000</td>\n",
       "      <td>en</td>\n",
       "      <td>0.000</td>\n",
       "      <td>0.000</td>\n",
       "      <td>1.000</td>\n",
       "    </tr>\n",
       "    <tr>\n",
       "      <th>47548</th>\n",
       "      <td>47548</td>\n",
       "      <td>1461484374558490000</td>\n",
       "      <td>RT @THEMAXHILTON: The wait is over !  you have...</td>\n",
       "      <td>2021-11-19 00:00:02+00:00</td>\n",
       "      <td>832015137263452032.000</td>\n",
       "      <td>en</td>\n",
       "      <td>121.000</td>\n",
       "      <td>0.000</td>\n",
       "      <td>0.000</td>\n",
       "    </tr>\n",
       "    <tr>\n",
       "      <th>47549</th>\n",
       "      <td>47549</td>\n",
       "      <td>1461484366325030000</td>\n",
       "      <td>#Barcelona Nov 19 01:00 Temperature 10C Wind N...</td>\n",
       "      <td>2021-11-19 00:00:00+00:00</td>\n",
       "      <td>258025521.000</td>\n",
       "      <td>en</td>\n",
       "      <td>0.000</td>\n",
       "      <td>0.000</td>\n",
       "      <td>0.000</td>\n",
       "    </tr>\n",
       "  </tbody>\n",
       "</table>\n",
       "<p>47550 rows × 9 columns</p>\n",
       "</div>"
      ],
      "text/plain": [
       "       Unnamed: 0            tweeet.id  \\\n",
       "0               0  1461484086892140000   \n",
       "1               1  1461484079245840000   \n",
       "2               2  1461484043187460000   \n",
       "3               3  1461483982105760000   \n",
       "4               4  1461483978658120000   \n",
       "...           ...                  ...   \n",
       "47545       47545  1461484434209780000   \n",
       "47546       47546  1461484401712410000   \n",
       "47547       47547  1461484391255970000   \n",
       "47548       47548  1461484374558490000   \n",
       "47549       47549  1461484366325030000   \n",
       "\n",
       "                                              tweet.text  \\\n",
       "0      RT @ESPNFC: EURO 2008 top scorer: Villa ⚽️\\nWo...   \n",
       "1      RT @MrGeepGeep: SOE is over and now is the tim...   \n",
       "2      RT @AnittaCrave: \"Envolver\" — by Anitta will d...   \n",
       "3      Men jewelry  - Madrid, Spain \\n@GuilleRBRB htt...   \n",
       "4      RT @Foreign_Cat: #Turkey &amp; #Spain, partner...   \n",
       "...                                                  ...   \n",
       "47545  @only1womble @SimonJonesNews @pritipatel Someo...   \n",
       "47546  RT @ancientorigins: A team of #scientists has ...   \n",
       "47547  On #Friday Amazing time in #SabatiniGardens #M...   \n",
       "47548  RT @THEMAXHILTON: The wait is over !  you have...   \n",
       "47549  #Barcelona Nov 19 01:00 Temperature 10C Wind N...   \n",
       "\n",
       "                tweet.created_at         tweet.author_id tweet.lang  \\\n",
       "0      2021-11-18 23:58:54+00:00          3239744421.000         en   \n",
       "1      2021-11-18 23:58:52+00:00          2312771653.000         en   \n",
       "2      2021-11-18 23:58:43+00:00 1296857652677550080.000         en   \n",
       "3      2021-11-18 23:58:29+00:00 1071703322166480000.000         en   \n",
       "4      2021-11-18 23:58:28+00:00 1142741725225650048.000         en   \n",
       "...                          ...                     ...        ...   \n",
       "47545  2021-11-19 00:00:16+00:00          1733373504.000         en   \n",
       "47546  2021-11-19 00:00:09+00:00           100887413.000         en   \n",
       "47547  2021-11-19 00:00:06+00:00  995441471938579968.000         en   \n",
       "47548  2021-11-19 00:00:02+00:00  832015137263452032.000         en   \n",
       "47549  2021-11-19 00:00:00+00:00           258025521.000         en   \n",
       "\n",
       "       public_metrics.retweet_count  public_metrics.reply_count  \\\n",
       "0                          1568.000                       0.000   \n",
       "1                            38.000                       0.000   \n",
       "2                            90.000                       0.000   \n",
       "3                             0.000                       0.000   \n",
       "4                            34.000                       0.000   \n",
       "...                             ...                         ...   \n",
       "47545                         0.000                       0.000   \n",
       "47546                        18.000                       0.000   \n",
       "47547                         0.000                       0.000   \n",
       "47548                       121.000                       0.000   \n",
       "47549                         0.000                       0.000   \n",
       "\n",
       "       public_metrics.like_count  \n",
       "0                          0.000  \n",
       "1                          0.000  \n",
       "2                          0.000  \n",
       "3                          5.000  \n",
       "4                          0.000  \n",
       "...                          ...  \n",
       "47545                      0.000  \n",
       "47546                      0.000  \n",
       "47547                      1.000  \n",
       "47548                      0.000  \n",
       "47549                      0.000  \n",
       "\n",
       "[47550 rows x 9 columns]"
      ]
     },
     "execution_count": 154,
     "metadata": {},
     "output_type": "execute_result"
    }
   ],
   "source": [
    "spainEnglishAll"
   ]
  },
  {
   "cell_type": "code",
   "execution_count": 17,
   "metadata": {},
   "outputs": [
    {
     "name": "stdout",
     "output_type": "stream",
     "text": [
      "<class 'pandas.core.frame.DataFrame'>\n",
      "RangeIndex: 47550 entries, 0 to 47549\n",
      "Data columns (total 9 columns):\n",
      " #   Column                        Non-Null Count  Dtype  \n",
      "---  ------                        --------------  -----  \n",
      " 0   Unnamed: 0                    47550 non-null  int64  \n",
      " 1   tweeet.id                     47550 non-null  object \n",
      " 2   tweet.text                    47550 non-null  object \n",
      " 3   tweet.created_at              47537 non-null  object \n",
      " 4   tweet.author_id               47537 non-null  float64\n",
      " 5   tweet.lang                    47537 non-null  object \n",
      " 6   public_metrics.retweet_count  47537 non-null  float64\n",
      " 7   public_metrics.reply_count    47537 non-null  float64\n",
      " 8   public_metrics.like_count     47524 non-null  float64\n",
      "dtypes: float64(4), int64(1), object(4)\n",
      "memory usage: 3.3+ MB\n",
      "None\n",
      "(47550, 9)\n"
     ]
    }
   ],
   "source": [
    "print(spainEnglishAll.info())\n",
    "print(spainEnglishAll.shape)"
   ]
  },
  {
   "cell_type": "markdown",
   "metadata": {},
   "source": [
    "From the info and dimension of the dataset we understand that there are some missing values in the variables 'tweet.created_at', 'tweet.author_id', 'tweet.lang', 'public_metrics.retweet_count', 'public_metrics.reply_count' and 'public_metrics.like_count'"
   ]
  },
  {
   "cell_type": "code",
   "execution_count": 10,
   "metadata": {},
   "outputs": [],
   "source": [
    "import seaborn as sns"
   ]
  },
  {
   "cell_type": "markdown",
   "metadata": {},
   "source": [
    "Before moving to the analysis, let us do some EDA of the data. Let us check if the 'tweet.ids' and 'tweet.texts' are unique. If the 'tweet.ids' are unique but the 'tweet.texts' are repeating then the same 'tweet.text' could have been tweeted  by different users or same users at different points of time."
   ]
  },
  {
   "cell_type": "markdown",
   "metadata": {},
   "source": [
    "Let us see the spread of the numeric engagement metrics viz. 'public_metrics.retweet_count', 'public_metrics.reply_count' and 'public_metrics.like_count'. For this let us plot the histograms of these variables and see their spread. Also, let's see thier descriptive sttistics."
   ]
  },
  {
   "cell_type": "code",
   "execution_count": 19,
   "metadata": {},
   "outputs": [
    {
     "name": "stdout",
     "output_type": "stream",
     "text": [
      "47550\n",
      "22777\n"
     ]
    }
   ],
   "source": [
    "print(spainEnglishAll['tweeet.id'].nunique())\n",
    "print(spainEnglishAll['tweet.text'].nunique())"
   ]
  },
  {
   "cell_type": "markdown",
   "metadata": {},
   "source": [
    "Thus we see that the tweet.ids are all unique while the tweet.texts are not unique which means the same tweet.texts could have been posted by the user at different points of time."
   ]
  },
  {
   "cell_type": "code",
   "execution_count": 29,
   "metadata": {},
   "outputs": [
    {
     "name": "stdout",
     "output_type": "stream",
     "text": [
      "count   47537\n",
      "mean      234\n",
      "std       959\n",
      "min         0\n",
      "25%         0\n",
      "50%         6\n",
      "75%       124\n",
      "max     44845\n",
      "Name: public_metrics.retweet_count, dtype: float64\n",
      "20.92095507535131\n"
     ]
    },
    {
     "name": "stderr",
     "output_type": "stream",
     "text": [
      "C:\\Users\\ASUS\\anaconda3\\lib\\site-packages\\seaborn\\distributions.py:2551: FutureWarning: `distplot` is a deprecated function and will be removed in a future version. Please adapt your code to use either `displot` (a figure-level function with similar flexibility) or `histplot` (an axes-level function for histograms).\n",
      "  warnings.warn(msg, FutureWarning)\n"
     ]
    },
    {
     "data": {
      "text/plain": [
       "Text(0.5, 1.0, 'Retweet Count Histogram with Density Plot')"
      ]
     },
     "execution_count": 29,
     "metadata": {},
     "output_type": "execute_result"
    },
    {
     "data": {
      "image/png": "[encoded data removed]",
      "text/plain": [
       "<Figure size 432x288 with 1 Axes>"
      ]
     },
     "metadata": {
      "needs_background": "light"
     },
     "output_type": "display_data"
    }
   ],
   "source": [
    "print(spainEnglishAll['public_metrics.retweet_count'].describe())\n",
    "print(spainEnglishAll['public_metrics.retweet_count'].skew())\n",
    "retweetdist = sns.distplot(spainEnglishAll['public_metrics.retweet_count'])\n",
    "retweetdist.set_title('Retweet Count Histogram with Density Plot')\n",
    "###Thus we see that the 'public_metrics.retweet_count' is skewed to the right"
   ]
  },
  {
   "cell_type": "code",
   "execution_count": 30,
   "metadata": {},
   "outputs": [
    {
     "name": "stdout",
     "output_type": "stream",
     "text": [
      "count   47537\n",
      "mean        0\n",
      "std         5\n",
      "min        -0\n",
      "25%         0\n",
      "50%         0\n",
      "75%         0\n",
      "max       740\n",
      "Name: public_metrics.reply_count, dtype: float64\n",
      "121.94767716856964\n"
     ]
    },
    {
     "name": "stderr",
     "output_type": "stream",
     "text": [
      "C:\\Users\\ASUS\\anaconda3\\lib\\site-packages\\seaborn\\distributions.py:2551: FutureWarning: `distplot` is a deprecated function and will be removed in a future version. Please adapt your code to use either `displot` (a figure-level function with similar flexibility) or `histplot` (an axes-level function for histograms).\n",
      "  warnings.warn(msg, FutureWarning)\n"
     ]
    },
    {
     "data": {
      "text/plain": [
       "Text(0.5, 1.0, 'Retweet Count Histogram with Density Plot')"
      ]
     },
     "execution_count": 30,
     "metadata": {},
     "output_type": "execute_result"
    },
    {
     "data": {
      "image/png": "[encoded data removed]",
      "text/plain": [
       "<Figure size 432x288 with 1 Axes>"
      ]
     },
     "metadata": {
      "needs_background": "light"
     },
     "output_type": "display_data"
    }
   ],
   "source": [
    "print(spainEnglishAll['public_metrics.reply_count'].describe())\n",
    "print(spainEnglishAll['public_metrics.reply_count'].skew())\n",
    "replydist = sns.distplot(spainEnglishAll['public_metrics.reply_count'])\n",
    "replydist.set_title('Retweet Count Histogram with Density Plot')\n",
    "###Thus we see that the 'public_metrics.reply_count' is highly skewed to the right"
   ]
  },
  {
   "cell_type": "code",
   "execution_count": 32,
   "metadata": {},
   "outputs": [
    {
     "name": "stdout",
     "output_type": "stream",
     "text": [
      "count   47524\n",
      "mean        3\n",
      "std       106\n",
      "min         0\n",
      "25%         0\n",
      "50%         0\n",
      "75%         0\n",
      "max     15423\n",
      "Name: public_metrics.like_count, dtype: float64\n",
      "106.1119749354647\n"
     ]
    },
    {
     "name": "stderr",
     "output_type": "stream",
     "text": [
      "C:\\Users\\ASUS\\anaconda3\\lib\\site-packages\\seaborn\\distributions.py:2551: FutureWarning: `distplot` is a deprecated function and will be removed in a future version. Please adapt your code to use either `displot` (a figure-level function with similar flexibility) or `histplot` (an axes-level function for histograms).\n",
      "  warnings.warn(msg, FutureWarning)\n"
     ]
    },
    {
     "data": {
      "text/plain": [
       "Text(0.5, 1.0, 'Retweet Count Histogram with Density Plot')"
      ]
     },
     "execution_count": 32,
     "metadata": {},
     "output_type": "execute_result"
    },
    {
     "data": {
      "image/png": "[encoded data removed]",
      "text/plain": [
       "<Figure size 432x288 with 1 Axes>"
      ]
     },
     "metadata": {
      "needs_background": "light"
     },
     "output_type": "display_data"
    }
   ],
   "source": [
    "print(spainEnglishAll['public_metrics.like_count'].describe())\n",
    "print(spainEnglishAll['public_metrics.like_count'].skew())\n",
    "likedist = sns.distplot(spainEnglishAll['public_metrics.like_count'])\n",
    "likedist.set_title('Retweet Count Histogram with Density Plot')\n",
    "###Thus we see that the 'public_metrics.like_count' is highly skewed to the right"
   ]
  },
  {
   "cell_type": "code",
   "execution_count": 78,
   "metadata": {},
   "outputs": [
    {
     "name": "stdout",
     "output_type": "stream",
     "text": [
      "public_metrics.retweet_count   234\n",
      "public_metrics.reply_count       0\n",
      "public_metrics.like_count        3\n",
      "dtype: float64\n",
      "public_metrics.retweet_count   6\n",
      "public_metrics.reply_count     0\n",
      "public_metrics.like_count      0\n",
      "dtype: float64\n",
      "   public_metrics.retweet_count  public_metrics.reply_count  \\\n",
      "0                             0                           0   \n",
      "\n",
      "   public_metrics.like_count  \n",
      "0                          0  \n"
     ]
    }
   ],
   "source": [
    "print(spainEnglishAll[['public_metrics.retweet_count', 'public_metrics.reply_count', 'public_metrics.like_count']].mean())\n",
    "print(spainEnglishAll[['public_metrics.retweet_count', 'public_metrics.reply_count', 'public_metrics.like_count']].median())\n",
    "print(spainEnglishAll[['public_metrics.retweet_count', 'public_metrics.reply_count','public_metrics.like_count']].mode())"
   ]
  },
  {
   "cell_type": "code",
   "execution_count": null,
   "metadata": {},
   "outputs": [],
   "source": []
  },
  {
   "cell_type": "markdown",
   "metadata": {},
   "source": [
    "## Question 1. Which twitter conversations have large levels of amplification ? (15 points)\n",
    "### Tip: consider number of retweets, likes, etc as proxies to measure the spread of information on social media"
   ]
  },
  {
   "cell_type": "markdown",
   "metadata": {},
   "source": []
  },
  {
   "cell_type": "markdown",
   "metadata": {},
   "source": [
    "In order to extract the twitter conversations having large levels of amplification, first we create a KPI averaging the retweets, recounts and likes. \n",
    "\n",
    "*While defining the KPI, equal weights of 1 are taken for all the three retweet, reply and like. The weights of these engagement variables usually depends on the objective of the tweet, for instance if it is a marketing tweet for introduction of a new product, retweets would be of more wightage since the tweet's objective would be to diffuse or spread the information about the new product. In this data, the tweets are conversation about a melange of happenings in European Union. There is no singular objective of the convesations. The max count of these variables are quite different, at the same time the std, dispersion of these variables are also differnt. Equal weights are taken for all the three (retweet, reply and like) to get an approximate KPI of the engagement parameters.*"
   ]
  },
  {
   "cell_type": "markdown",
   "metadata": {},
   "source": [
    "#### Approach one:"
   ]
  },
  {
   "cell_type": "code",
   "execution_count": 75,
   "metadata": {},
   "outputs": [
    {
     "data": {
      "text/html": [
       "<div>\n",
       "<style scoped>\n",
       "    .dataframe tbody tr th:only-of-type {\n",
       "        vertical-align: middle;\n",
       "    }\n",
       "\n",
       "    .dataframe tbody tr th {\n",
       "        vertical-align: top;\n",
       "    }\n",
       "\n",
       "    .dataframe thead th {\n",
       "        text-align: right;\n",
       "    }\n",
       "</style>\n",
       "<table border=\"1\" class=\"dataframe\">\n",
       "  <thead>\n",
       "    <tr style=\"text-align: right;\">\n",
       "      <th></th>\n",
       "      <th>Unnamed: 0</th>\n",
       "      <th>tweeet.id</th>\n",
       "      <th>tweet.text</th>\n",
       "      <th>tweet.created_at</th>\n",
       "      <th>tweet.author_id</th>\n",
       "      <th>tweet.lang</th>\n",
       "      <th>public_metrics.retweet_count</th>\n",
       "      <th>public_metrics.reply_count</th>\n",
       "      <th>public_metrics.like_count</th>\n",
       "      <th>engagement_KPI</th>\n",
       "    </tr>\n",
       "  </thead>\n",
       "  <tbody>\n",
       "    <tr>\n",
       "      <th>23467</th>\n",
       "      <td>23467</td>\n",
       "      <td>1461162679809150000</td>\n",
       "      <td>RT @NCTsmtown_127: #Johnny’s Photo Diary:Spain...</td>\n",
       "      <td>2021-11-18 02:41:44+00:00</td>\n",
       "      <td>1290910527393210112</td>\n",
       "      <td>en</td>\n",
       "      <td>44845</td>\n",
       "      <td>0</td>\n",
       "      <td>0</td>\n",
       "      <td>14948</td>\n",
       "    </tr>\n",
       "    <tr>\n",
       "      <th>23656</th>\n",
       "      <td>23656</td>\n",
       "      <td>1461157780664900000</td>\n",
       "      <td>RT @NCTsmtown_127: #Johnny’s Photo Diary:Spain...</td>\n",
       "      <td>2021-11-18 02:22:16+00:00</td>\n",
       "      <td>1101831422631800064</td>\n",
       "      <td>en</td>\n",
       "      <td>43945</td>\n",
       "      <td>0</td>\n",
       "      <td>0</td>\n",
       "      <td>14648</td>\n",
       "    </tr>\n",
       "    <tr>\n",
       "      <th>8820</th>\n",
       "      <td>8820</td>\n",
       "      <td>1461371211343020000</td>\n",
       "      <td>RT @NCTsmtown_127: #Johnny’s Photo Diary:Spain...</td>\n",
       "      <td>2021-11-18 16:30:22+00:00</td>\n",
       "      <td>1168957082</td>\n",
       "      <td>en</td>\n",
       "      <td>43945</td>\n",
       "      <td>0</td>\n",
       "      <td>0</td>\n",
       "      <td>14648</td>\n",
       "    </tr>\n",
       "  </tbody>\n",
       "</table>\n",
       "</div>"
      ],
      "text/plain": [
       "       Unnamed: 0            tweeet.id  \\\n",
       "23467       23467  1461162679809150000   \n",
       "23656       23656  1461157780664900000   \n",
       "8820         8820  1461371211343020000   \n",
       "\n",
       "                                              tweet.text  \\\n",
       "23467  RT @NCTsmtown_127: #Johnny’s Photo Diary:Spain...   \n",
       "23656  RT @NCTsmtown_127: #Johnny’s Photo Diary:Spain...   \n",
       "8820   RT @NCTsmtown_127: #Johnny’s Photo Diary:Spain...   \n",
       "\n",
       "                tweet.created_at     tweet.author_id tweet.lang  \\\n",
       "23467  2021-11-18 02:41:44+00:00 1290910527393210112         en   \n",
       "23656  2021-11-18 02:22:16+00:00 1101831422631800064         en   \n",
       "8820   2021-11-18 16:30:22+00:00          1168957082         en   \n",
       "\n",
       "       public_metrics.retweet_count  public_metrics.reply_count  \\\n",
       "23467                         44845                           0   \n",
       "23656                         43945                           0   \n",
       "8820                          43945                           0   \n",
       "\n",
       "       public_metrics.like_count  engagement_KPI  \n",
       "23467                          0           14948  \n",
       "23656                          0           14648  \n",
       "8820                           0           14648  "
      ]
     },
     "execution_count": 75,
     "metadata": {},
     "output_type": "execute_result"
    }
   ],
   "source": [
    "spainEnglishAll.sort_values(by = 'engagement_KPI', ascending = False).head(n=3)"
   ]
  },
  {
   "cell_type": "code",
   "execution_count": 73,
   "metadata": {},
   "outputs": [
    {
     "data": {
      "text/html": [
       "<div>\n",
       "<style scoped>\n",
       "    .dataframe tbody tr th:only-of-type {\n",
       "        vertical-align: middle;\n",
       "    }\n",
       "\n",
       "    .dataframe tbody tr th {\n",
       "        vertical-align: top;\n",
       "    }\n",
       "\n",
       "    .dataframe thead th {\n",
       "        text-align: right;\n",
       "    }\n",
       "</style>\n",
       "<table border=\"1\" class=\"dataframe\">\n",
       "  <thead>\n",
       "    <tr style=\"text-align: right;\">\n",
       "      <th></th>\n",
       "      <th>Unnamed: 0</th>\n",
       "      <th>tweeet.id</th>\n",
       "      <th>tweet.text</th>\n",
       "      <th>tweet.created_at</th>\n",
       "      <th>tweet.author_id</th>\n",
       "      <th>tweet.lang</th>\n",
       "      <th>public_metrics.retweet_count</th>\n",
       "      <th>public_metrics.reply_count</th>\n",
       "      <th>public_metrics.like_count</th>\n",
       "      <th>engagement_KPI</th>\n",
       "    </tr>\n",
       "  </thead>\n",
       "  <tbody>\n",
       "    <tr>\n",
       "      <th>2434</th>\n",
       "      <td>2434</td>\n",
       "      <td>1461450207657340000</td>\n",
       "      <td>EURO 2008 top scorer: Villa ⚽️\\nWorld Cup 2010...</td>\n",
       "      <td>2021-11-18 21:44:16+00:00</td>\n",
       "      <td>18091004</td>\n",
       "      <td>en</td>\n",
       "      <td>1568</td>\n",
       "      <td>740</td>\n",
       "      <td>15423</td>\n",
       "      <td>5910</td>\n",
       "    </tr>\n",
       "    <tr>\n",
       "      <th>27778</th>\n",
       "      <td>27778</td>\n",
       "      <td>1461806775594880000</td>\n",
       "      <td>From Spain: Manchester United are ready to bid...</td>\n",
       "      <td>2021-11-19 21:21:09+00:00</td>\n",
       "      <td>2430359540</td>\n",
       "      <td>en</td>\n",
       "      <td>379</td>\n",
       "      <td>512</td>\n",
       "      <td>6058</td>\n",
       "      <td>2316</td>\n",
       "    </tr>\n",
       "    <tr>\n",
       "      <th>34485</th>\n",
       "      <td>34485</td>\n",
       "      <td>1461715384516710000</td>\n",
       "      <td>🚨⚽️ | Fifa have released their new rankings\\n\\...</td>\n",
       "      <td>2021-11-19 15:17:59+00:00</td>\n",
       "      <td>1412833835776079872</td>\n",
       "      <td>en</td>\n",
       "      <td>93</td>\n",
       "      <td>215</td>\n",
       "      <td>3358</td>\n",
       "      <td>1222</td>\n",
       "    </tr>\n",
       "  </tbody>\n",
       "</table>\n",
       "</div>"
      ],
      "text/plain": [
       "       Unnamed: 0            tweeet.id  \\\n",
       "2434         2434  1461450207657340000   \n",
       "27778       27778  1461806775594880000   \n",
       "34485       34485  1461715384516710000   \n",
       "\n",
       "                                              tweet.text  \\\n",
       "2434   EURO 2008 top scorer: Villa ⚽️\\nWorld Cup 2010...   \n",
       "27778  From Spain: Manchester United are ready to bid...   \n",
       "34485  🚨⚽️ | Fifa have released their new rankings\\n\\...   \n",
       "\n",
       "                tweet.created_at     tweet.author_id tweet.lang  \\\n",
       "2434   2021-11-18 21:44:16+00:00            18091004         en   \n",
       "27778  2021-11-19 21:21:09+00:00          2430359540         en   \n",
       "34485  2021-11-19 15:17:59+00:00 1412833835776079872         en   \n",
       "\n",
       "       public_metrics.retweet_count  public_metrics.reply_count  \\\n",
       "2434                           1568                         740   \n",
       "27778                           379                         512   \n",
       "34485                            93                         215   \n",
       "\n",
       "       public_metrics.like_count  engagement_KPI  \n",
       "2434                       15423            5910  \n",
       "27778                       6058            2316  \n",
       "34485                       3358            1222  "
      ]
     },
     "execution_count": 73,
     "metadata": {},
     "output_type": "execute_result"
    }
   ],
   "source": [
    "spainEnglishAll.sort_values(by = 'public_metrics.reply_count', ascending = False).head(n=3)"
   ]
  },
  {
   "cell_type": "code",
   "execution_count": 74,
   "metadata": {},
   "outputs": [
    {
     "data": {
      "text/html": [
       "<div>\n",
       "<style scoped>\n",
       "    .dataframe tbody tr th:only-of-type {\n",
       "        vertical-align: middle;\n",
       "    }\n",
       "\n",
       "    .dataframe tbody tr th {\n",
       "        vertical-align: top;\n",
       "    }\n",
       "\n",
       "    .dataframe thead th {\n",
       "        text-align: right;\n",
       "    }\n",
       "</style>\n",
       "<table border=\"1\" class=\"dataframe\">\n",
       "  <thead>\n",
       "    <tr style=\"text-align: right;\">\n",
       "      <th></th>\n",
       "      <th>Unnamed: 0</th>\n",
       "      <th>tweeet.id</th>\n",
       "      <th>tweet.text</th>\n",
       "      <th>tweet.created_at</th>\n",
       "      <th>tweet.author_id</th>\n",
       "      <th>tweet.lang</th>\n",
       "      <th>public_metrics.retweet_count</th>\n",
       "      <th>public_metrics.reply_count</th>\n",
       "      <th>public_metrics.like_count</th>\n",
       "      <th>engagement_KPI</th>\n",
       "    </tr>\n",
       "  </thead>\n",
       "  <tbody>\n",
       "    <tr>\n",
       "      <th>2434</th>\n",
       "      <td>2434</td>\n",
       "      <td>1461450207657340000</td>\n",
       "      <td>EURO 2008 top scorer: Villa ⚽️\\nWorld Cup 2010...</td>\n",
       "      <td>2021-11-18 21:44:16+00:00</td>\n",
       "      <td>18091004</td>\n",
       "      <td>en</td>\n",
       "      <td>1568</td>\n",
       "      <td>740</td>\n",
       "      <td>15423</td>\n",
       "      <td>5910</td>\n",
       "    </tr>\n",
       "    <tr>\n",
       "      <th>32805</th>\n",
       "      <td>32805</td>\n",
       "      <td>1461735560435750000</td>\n",
       "      <td>\"What if Lionel Messi picked Spain over Argent...</td>\n",
       "      <td>2021-11-19 16:38:09+00:00</td>\n",
       "      <td>1443958261917509888</td>\n",
       "      <td>en</td>\n",
       "      <td>895</td>\n",
       "      <td>138</td>\n",
       "      <td>12216</td>\n",
       "      <td>4416</td>\n",
       "    </tr>\n",
       "    <tr>\n",
       "      <th>27778</th>\n",
       "      <td>27778</td>\n",
       "      <td>1461806775594880000</td>\n",
       "      <td>From Spain: Manchester United are ready to bid...</td>\n",
       "      <td>2021-11-19 21:21:09+00:00</td>\n",
       "      <td>2430359540</td>\n",
       "      <td>en</td>\n",
       "      <td>379</td>\n",
       "      <td>512</td>\n",
       "      <td>6058</td>\n",
       "      <td>2316</td>\n",
       "    </tr>\n",
       "  </tbody>\n",
       "</table>\n",
       "</div>"
      ],
      "text/plain": [
       "       Unnamed: 0            tweeet.id  \\\n",
       "2434         2434  1461450207657340000   \n",
       "32805       32805  1461735560435750000   \n",
       "27778       27778  1461806775594880000   \n",
       "\n",
       "                                              tweet.text  \\\n",
       "2434   EURO 2008 top scorer: Villa ⚽️\\nWorld Cup 2010...   \n",
       "32805  \"What if Lionel Messi picked Spain over Argent...   \n",
       "27778  From Spain: Manchester United are ready to bid...   \n",
       "\n",
       "                tweet.created_at     tweet.author_id tweet.lang  \\\n",
       "2434   2021-11-18 21:44:16+00:00            18091004         en   \n",
       "32805  2021-11-19 16:38:09+00:00 1443958261917509888         en   \n",
       "27778  2021-11-19 21:21:09+00:00          2430359540         en   \n",
       "\n",
       "       public_metrics.retweet_count  public_metrics.reply_count  \\\n",
       "2434                           1568                         740   \n",
       "32805                           895                         138   \n",
       "27778                           379                         512   \n",
       "\n",
       "       public_metrics.like_count  engagement_KPI  \n",
       "2434                       15423            5910  \n",
       "32805                      12216            4416  \n",
       "27778                       6058            2316  "
      ]
     },
     "execution_count": 74,
     "metadata": {},
     "output_type": "execute_result"
    }
   ],
   "source": [
    "spainEnglishAll.sort_values(by = 'public_metrics.like_count', ascending = False).head(n=3)"
   ]
  },
  {
   "cell_type": "markdown",
   "metadata": {},
   "source": [
    "Though, the weigtage of the engagement metric depends upon the objective of the tweet, if we see from a generic perspective with equal weightage given to all the three i.e., retweet, reply and like, we see that the tweets which come in the top percentile of amplification are - \n",
    "EURO 2008 top scorer: Villa ⚽️\\nWorld Cup 2010... (tweet id - 1461450207657340000, \"What if Lionel Messi picked Spain over Argent...(tweet id - 1461735560435750000) and Madrid, Spain 🇪🇸 #NaturePhotogr...(tweeet id - 1461338150610080000). \n",
    "If we see only from the KPI perspective the top amplified tweet is driven by retweets and is - RT @NCTsmtown_127: #Johnny’s Photo Diary:Spain...(tweet id - 1461162679809150000).\n",
    "The top tweet driven by replies and likes is the same as found from to percentile of all the proxies."
   ]
  },
  {
   "cell_type": "markdown",
   "metadata": {},
   "source": [
    "#### Approach 2"
   ]
  },
  {
   "cell_type": "code",
   "execution_count": 79,
   "metadata": {},
   "outputs": [],
   "source": [
    "###Let us group by the entire data by the unique tweet texts."
   ]
  },
  {
   "cell_type": "markdown",
   "metadata": {},
   "source": [
    "Thus we get the top tweets from KPI perspective which are driven only by retweets."
   ]
  },
  {
   "cell_type": "code",
   "execution_count": 107,
   "metadata": {},
   "outputs": [
    {
     "data": {
      "text/html": [
       "<div>\n",
       "<style scoped>\n",
       "    .dataframe tbody tr th:only-of-type {\n",
       "        vertical-align: middle;\n",
       "    }\n",
       "\n",
       "    .dataframe tbody tr th {\n",
       "        vertical-align: top;\n",
       "    }\n",
       "\n",
       "    .dataframe thead th {\n",
       "        text-align: right;\n",
       "    }\n",
       "</style>\n",
       "<table border=\"1\" class=\"dataframe\">\n",
       "  <thead>\n",
       "    <tr style=\"text-align: right;\">\n",
       "      <th></th>\n",
       "      <th>public_metrics.retweet_count</th>\n",
       "      <th>public_metrics.reply_count</th>\n",
       "      <th>public_metrics.like_count</th>\n",
       "      <th>engagement_KPI</th>\n",
       "    </tr>\n",
       "    <tr>\n",
       "      <th>tweet.text</th>\n",
       "      <th></th>\n",
       "      <th></th>\n",
       "      <th></th>\n",
       "      <th></th>\n",
       "    </tr>\n",
       "  </thead>\n",
       "  <tbody>\n",
       "    <tr>\n",
       "      <th>EURO 2008 top scorer: Villa ⚽️\\nWorld Cup 2010 winner: Spain 🇪🇸\\n\\nEURO 2012 top scorer: Gomez ⚽️\\nWorld Cup 2014 winner: Germany 🇩🇪\\n\\nEURO 2016 top scorer: Griezmann ⚽️\\nWorld Cup 2018 winner: France 🇫🇷\\n\\nEURO 2020 top scorer: Ronaldo ⚽️\\nWorld Cup 2022 winner: 🤔 https://t.co/NkAdzUjOxZ</th>\n",
       "      <td>1568</td>\n",
       "      <td>740</td>\n",
       "      <td>15423</td>\n",
       "      <td>5910</td>\n",
       "    </tr>\n",
       "    <tr>\n",
       "      <th>\"What if Lionel Messi picked Spain over Argentina😳\" https://t.co/lgHniNyeKW</th>\n",
       "      <td>895</td>\n",
       "      <td>138</td>\n",
       "      <td>12216</td>\n",
       "      <td>4416</td>\n",
       "    </tr>\n",
       "    <tr>\n",
       "      <th>From Spain: Manchester United are ready to bid €70m for Real Madrid's Federico Valverde, with the club believing his skill-set fits the Premier League perfectly</th>\n",
       "      <td>379</td>\n",
       "      <td>512</td>\n",
       "      <td>6058</td>\n",
       "      <td>2316</td>\n",
       "    </tr>\n",
       "    <tr>\n",
       "      <th>Madrid, Spain 🇪🇸                #NaturePhotography #travelphotography #landscape #travel https://t.co/jVDiP3m0dY</th>\n",
       "      <td>861</td>\n",
       "      <td>61</td>\n",
       "      <td>4240</td>\n",
       "      <td>1721</td>\n",
       "    </tr>\n",
       "    <tr>\n",
       "      <th>I wanted to go to LFL next year but as many of you know things didn't really go as planned, however I wanted to choose the roster I thought was the best for my future\\nI'll win in Spain and get my revenge on KC at eumasters, I'll see you there @Kammeto @KoteiZousa @Striker_KC</th>\n",
       "      <td>116</td>\n",
       "      <td>79</td>\n",
       "      <td>4632</td>\n",
       "      <td>1609</td>\n",
       "    </tr>\n",
       "  </tbody>\n",
       "</table>\n",
       "</div>"
      ],
      "text/plain": [
       "                                                    public_metrics.retweet_count  \\\n",
       "tweet.text                                                                         \n",
       "EURO 2008 top scorer: Villa ⚽️\\nWorld Cup 2010 ...                          1568   \n",
       "\"What if Lionel Messi picked Spain over Argenti...                           895   \n",
       "From Spain: Manchester United are ready to bid ...                           379   \n",
       "Madrid, Spain 🇪🇸                #NaturePhotogra...                           861   \n",
       "I wanted to go to LFL next year but as many of ...                           116   \n",
       "\n",
       "                                                    public_metrics.reply_count  \\\n",
       "tweet.text                                                                       \n",
       "EURO 2008 top scorer: Villa ⚽️\\nWorld Cup 2010 ...                         740   \n",
       "\"What if Lionel Messi picked Spain over Argenti...                         138   \n",
       "From Spain: Manchester United are ready to bid ...                         512   \n",
       "Madrid, Spain 🇪🇸                #NaturePhotogra...                          61   \n",
       "I wanted to go to LFL next year but as many of ...                          79   \n",
       "\n",
       "                                                    public_metrics.like_count  \\\n",
       "tweet.text                                                                      \n",
       "EURO 2008 top scorer: Villa ⚽️\\nWorld Cup 2010 ...                      15423   \n",
       "\"What if Lionel Messi picked Spain over Argenti...                      12216   \n",
       "From Spain: Manchester United are ready to bid ...                       6058   \n",
       "Madrid, Spain 🇪🇸                #NaturePhotogra...                       4240   \n",
       "I wanted to go to LFL next year but as many of ...                       4632   \n",
       "\n",
       "                                                    engagement_KPI  \n",
       "tweet.text                                                          \n",
       "EURO 2008 top scorer: Villa ⚽️\\nWorld Cup 2010 ...            5910  \n",
       "\"What if Lionel Messi picked Spain over Argenti...            4416  \n",
       "From Spain: Manchester United are ready to bid ...            2316  \n",
       "Madrid, Spain 🇪🇸                #NaturePhotogra...            1721  \n",
       "I wanted to go to LFL next year but as many of ...            1609  "
      ]
     },
     "execution_count": 107,
     "metadata": {},
     "output_type": "execute_result"
    }
   ],
   "source": [
    "toptweettextdata = spainEnglishAllgroupedtop.sort_values(by = 'engagement_KPI', ascending = False).head()\n",
    "toptweettextdata"
   ]
  },
  {
   "cell_type": "code",
   "execution_count": 111,
   "metadata": {},
   "outputs": [
    {
     "data": {
      "text/plain": [
       "Index(['EURO 2008 top scorer: Villa ⚽️\\nWorld Cup 2010 winner: Spain 🇪🇸\\n\\nEURO 2012 top scorer: Gomez ⚽️\\nWorld Cup 2014 winner: Germany 🇩🇪\\n\\nEURO 2016 top scorer: Griezmann ⚽️\\nWorld Cup 2018 winner: France 🇫🇷\\n\\nEURO 2020 top scorer: Ronaldo ⚽️\\nWorld Cup 2022 winner: 🤔 https://t.co/NkAdzUjOxZ',\n",
       "       '\"What if Lionel Messi picked Spain over Argentina😳\" https://t.co/lgHniNyeKW',\n",
       "       'From Spain: Manchester United are ready to bid €70m for Real Madrid's Federico Valverde, with the club believing his skill-set fits the Premier League perfectly',\n",
       "       'Madrid, Spain 🇪🇸                #NaturePhotography #travelphotography #landscape #travel https://t.co/jVDiP3m0dY',\n",
       "       'I wanted to go to LFL next year but as many of you know things didn't really go as planned, however I wanted to choose the roster I thought was the best for my future\\nI'll win in Spain and get my revenge on KC at eumasters, I'll see you there @Kammeto @KoteiZousa @Striker_KC'],\n",
       "      dtype='object', name='tweet.text')"
      ]
     },
     "execution_count": 111,
     "metadata": {},
     "output_type": "execute_result"
    }
   ],
   "source": [
    "toptweettextdata.index  ###This gives us the top amplified unique tweet texts."
   ]
  },
  {
   "cell_type": "markdown",
   "metadata": {},
   "source": [
    "## Question 2. Analysis of highly amplified conversations (15 points)\n",
    "\n",
    "### Please describe  5 highly amplified conversations which are trying to polarize or misinform.\n",
    "\n",
    "## Tip: given a tweet.id it is possible to have a detailed look at twitter by appending this id to the url: https://twitter.com/anyuser/status/\n",
    "\n",
    "\n",
    "### For instance given the tweet.id: 1461577564850319362 you can inspect its content by having a look at: https://twitter.com/anyuser/status/1461577564850319362\n",
    "\n"
   ]
  },
  {
   "cell_type": "markdown",
   "metadata": {},
   "source": []
  },
  {
   "cell_type": "markdown",
   "metadata": {},
   "source": [
    "Extract the top highly amplified conversations i.e. 'tweet.text' and 'tweeet.ids' from the top percentiles of retweet_count, reply_count, like_count and engagement_KPI and then inspect each using the above url and the variable - 'tweeet.id'"
   ]
  },
  {
   "cell_type": "code",
   "execution_count": 132,
   "metadata": {},
   "outputs": [],
   "source": [
    "###Let us create the top decile markers for the tweet amplification proxy variables.\n",
    "retweet_counttop80 = spainEnglishAll['public_metrics.retweet_count'].quantile(0.85)\n",
    "reply_counttop80 = spainEnglishAll['public_metrics.reply_count'].quantile(0.85)\n",
    "like_counttop80 = spainEnglishAll['public_metrics.like_count'].quantile(0.85)\n",
    "engagement_counttop80 = spainEnglishAll['engagement_KPI'].quantile(0.85)"
   ]
  },
  {
   "cell_type": "code",
   "execution_count": 133,
   "metadata": {},
   "outputs": [],
   "source": [
    "topamplifiedtweetdata = spainEnglishAll[(spainEnglishAll['public_metrics.retweet_count'] > retweet_counttop80) & (spainEnglishAll['public_metrics.reply_count'] > reply_counttop80) & (spainEnglishAll['public_metrics.like_count'] > like_counttop80) & (spainEnglishAll['engagement_KPI'] > engagement_counttop80)]"
   ]
  },
  {
   "cell_type": "code",
   "execution_count": 134,
   "metadata": {},
   "outputs": [
    {
     "data": {
      "text/html": [
       "<div>\n",
       "<style scoped>\n",
       "    .dataframe tbody tr th:only-of-type {\n",
       "        vertical-align: middle;\n",
       "    }\n",
       "\n",
       "    .dataframe tbody tr th {\n",
       "        vertical-align: top;\n",
       "    }\n",
       "\n",
       "    .dataframe thead th {\n",
       "        text-align: right;\n",
       "    }\n",
       "</style>\n",
       "<table border=\"1\" class=\"dataframe\">\n",
       "  <thead>\n",
       "    <tr style=\"text-align: right;\">\n",
       "      <th></th>\n",
       "      <th>Unnamed: 0</th>\n",
       "      <th>tweeet.id</th>\n",
       "      <th>tweet.text</th>\n",
       "      <th>tweet.created_at</th>\n",
       "      <th>tweet.author_id</th>\n",
       "      <th>tweet.lang</th>\n",
       "      <th>public_metrics.retweet_count</th>\n",
       "      <th>public_metrics.reply_count</th>\n",
       "      <th>public_metrics.like_count</th>\n",
       "      <th>engagement_KPI</th>\n",
       "    </tr>\n",
       "  </thead>\n",
       "  <tbody>\n",
       "    <tr>\n",
       "      <th>2434</th>\n",
       "      <td>2434</td>\n",
       "      <td>1461450207657340000</td>\n",
       "      <td>EURO 2008 top scorer: Villa ⚽️\\nWorld Cup 2010...</td>\n",
       "      <td>2021-11-18 21:44:16+00:00</td>\n",
       "      <td>18091004</td>\n",
       "      <td>en</td>\n",
       "      <td>1568</td>\n",
       "      <td>740</td>\n",
       "      <td>15423</td>\n",
       "      <td>5910</td>\n",
       "    </tr>\n",
       "    <tr>\n",
       "      <th>32805</th>\n",
       "      <td>32805</td>\n",
       "      <td>1461735560435750000</td>\n",
       "      <td>\"What if Lionel Messi picked Spain over Argent...</td>\n",
       "      <td>2021-11-19 16:38:09+00:00</td>\n",
       "      <td>1443958261917509888</td>\n",
       "      <td>en</td>\n",
       "      <td>895</td>\n",
       "      <td>138</td>\n",
       "      <td>12216</td>\n",
       "      <td>4416</td>\n",
       "    </tr>\n",
       "    <tr>\n",
       "      <th>27778</th>\n",
       "      <td>27778</td>\n",
       "      <td>1461806775594880000</td>\n",
       "      <td>From Spain: Manchester United are ready to bid...</td>\n",
       "      <td>2021-11-19 21:21:09+00:00</td>\n",
       "      <td>2430359540</td>\n",
       "      <td>en</td>\n",
       "      <td>379</td>\n",
       "      <td>512</td>\n",
       "      <td>6058</td>\n",
       "      <td>2316</td>\n",
       "    </tr>\n",
       "    <tr>\n",
       "      <th>11708</th>\n",
       "      <td>11708</td>\n",
       "      <td>1461338150610080000</td>\n",
       "      <td>Madrid, Spain 🇪🇸                #NaturePhotogr...</td>\n",
       "      <td>2021-11-18 14:19:00+00:00</td>\n",
       "      <td>1383404685189540096</td>\n",
       "      <td>en</td>\n",
       "      <td>861</td>\n",
       "      <td>61</td>\n",
       "      <td>4240</td>\n",
       "      <td>1721</td>\n",
       "    </tr>\n",
       "    <tr>\n",
       "      <th>15636</th>\n",
       "      <td>15636</td>\n",
       "      <td>1461295289608940000</td>\n",
       "      <td>In the last 20 years Spain has built 1,900 mil...</td>\n",
       "      <td>2021-11-18 11:28:41+00:00</td>\n",
       "      <td>1662773784</td>\n",
       "      <td>en</td>\n",
       "      <td>658</td>\n",
       "      <td>57</td>\n",
       "      <td>2362</td>\n",
       "      <td>1026</td>\n",
       "    </tr>\n",
       "    <tr>\n",
       "      <th>11438</th>\n",
       "      <td>11438</td>\n",
       "      <td>1461341020264740000</td>\n",
       "      <td>Another day of sky high electricity prices in ...</td>\n",
       "      <td>2021-11-18 14:30:24+00:00</td>\n",
       "      <td>1647573157</td>\n",
       "      <td>en</td>\n",
       "      <td>480</td>\n",
       "      <td>76</td>\n",
       "      <td>1011</td>\n",
       "      <td>522</td>\n",
       "    </tr>\n",
       "    <tr>\n",
       "      <th>20843</th>\n",
       "      <td>20843</td>\n",
       "      <td>1461225890226910000</td>\n",
       "      <td>Searching 100x #memecoin in this peace 😻\\n\\nOu...</td>\n",
       "      <td>2021-11-18 06:52:55+00:00</td>\n",
       "      <td>4593671721</td>\n",
       "      <td>en</td>\n",
       "      <td>401</td>\n",
       "      <td>57</td>\n",
       "      <td>529</td>\n",
       "      <td>329</td>\n",
       "    </tr>\n",
       "  </tbody>\n",
       "</table>\n",
       "</div>"
      ],
      "text/plain": [
       "       Unnamed: 0            tweeet.id  \\\n",
       "2434         2434  1461450207657340000   \n",
       "32805       32805  1461735560435750000   \n",
       "27778       27778  1461806775594880000   \n",
       "11708       11708  1461338150610080000   \n",
       "15636       15636  1461295289608940000   \n",
       "11438       11438  1461341020264740000   \n",
       "20843       20843  1461225890226910000   \n",
       "\n",
       "                                              tweet.text  \\\n",
       "2434   EURO 2008 top scorer: Villa ⚽️\\nWorld Cup 2010...   \n",
       "32805  \"What if Lionel Messi picked Spain over Argent...   \n",
       "27778  From Spain: Manchester United are ready to bid...   \n",
       "11708  Madrid, Spain 🇪🇸                #NaturePhotogr...   \n",
       "15636  In the last 20 years Spain has built 1,900 mil...   \n",
       "11438  Another day of sky high electricity prices in ...   \n",
       "20843  Searching 100x #memecoin in this peace 😻\\n\\nOu...   \n",
       "\n",
       "                tweet.created_at     tweet.author_id tweet.lang  \\\n",
       "2434   2021-11-18 21:44:16+00:00            18091004         en   \n",
       "32805  2021-11-19 16:38:09+00:00 1443958261917509888         en   \n",
       "27778  2021-11-19 21:21:09+00:00          2430359540         en   \n",
       "11708  2021-11-18 14:19:00+00:00 1383404685189540096         en   \n",
       "15636  2021-11-18 11:28:41+00:00          1662773784         en   \n",
       "11438  2021-11-18 14:30:24+00:00          1647573157         en   \n",
       "20843  2021-11-18 06:52:55+00:00          4593671721         en   \n",
       "\n",
       "       public_metrics.retweet_count  public_metrics.reply_count  \\\n",
       "2434                           1568                         740   \n",
       "32805                           895                         138   \n",
       "27778                           379                         512   \n",
       "11708                           861                          61   \n",
       "15636                           658                          57   \n",
       "11438                           480                          76   \n",
       "20843                           401                          57   \n",
       "\n",
       "       public_metrics.like_count  engagement_KPI  \n",
       "2434                       15423            5910  \n",
       "32805                      12216            4416  \n",
       "27778                       6058            2316  \n",
       "11708                       4240            1721  \n",
       "15636                       2362            1026  \n",
       "11438                       1011             522  \n",
       "20843                        529             329  "
      ]
     },
     "execution_count": 134,
     "metadata": {},
     "output_type": "execute_result"
    }
   ],
   "source": [
    "topamplifiedtweetsorted = topamplifiedtweetdata.sort_values(by='engagement_KPI', ascending = False)\n",
    "topamplifiedtweetsorted"
   ]
  },
  {
   "cell_type": "code",
   "execution_count": 122,
   "metadata": {},
   "outputs": [
    {
     "name": "stdout",
     "output_type": "stream",
     "text": [
      "2434     EURO 2008 top scorer: Villa ⚽️\\nWorld Cup 2010...\n",
      "32805    \"What if Lionel Messi picked Spain over Argent...\n",
      "27778    From Spain: Manchester United are ready to bid...\n",
      "11708    Madrid, Spain 🇪🇸                #NaturePhotogr...\n",
      "15636    In the last 20 years Spain has built 1,900 mil...\n",
      "11438    Another day of sky high electricity prices in ...\n",
      "20843    Searching 100x #memecoin in this peace 😻\\n\\nOu...\n",
      "Name: tweet.text, dtype: object\n",
      "2434     1461450207657340000\n",
      "32805    1461735560435750000\n",
      "27778    1461806775594880000\n",
      "11708    1461338150610080000\n",
      "15636    1461295289608940000\n",
      "11438    1461341020264740000\n",
      "20843    1461225890226910000\n",
      "Name: tweeet.id, dtype: object\n"
     ]
    }
   ],
   "source": [
    "print(topamplifiedtweetsorted['tweet.text'])\n",
    "print(topamplifiedtweetsorted['tweeet.id'])"
   ]
  },
  {
   "cell_type": "code",
   "execution_count": 146,
   "metadata": {},
   "outputs": [
    {
     "data": {
      "text/html": [
       "<div>\n",
       "<style scoped>\n",
       "    .dataframe tbody tr th:only-of-type {\n",
       "        vertical-align: middle;\n",
       "    }\n",
       "\n",
       "    .dataframe tbody tr th {\n",
       "        vertical-align: top;\n",
       "    }\n",
       "\n",
       "    .dataframe thead th {\n",
       "        text-align: right;\n",
       "    }\n",
       "</style>\n",
       "<table border=\"1\" class=\"dataframe\">\n",
       "  <thead>\n",
       "    <tr style=\"text-align: right;\">\n",
       "      <th></th>\n",
       "      <th>Unnamed: 0</th>\n",
       "      <th>tweeet.id</th>\n",
       "      <th>tweet.text</th>\n",
       "      <th>tweet.created_at</th>\n",
       "      <th>tweet.author_id</th>\n",
       "      <th>tweet.lang</th>\n",
       "      <th>public_metrics.retweet_count</th>\n",
       "      <th>public_metrics.reply_count</th>\n",
       "      <th>public_metrics.like_count</th>\n",
       "      <th>engagement_KPI</th>\n",
       "    </tr>\n",
       "  </thead>\n",
       "  <tbody>\n",
       "    <tr>\n",
       "      <th>23467</th>\n",
       "      <td>23467</td>\n",
       "      <td>1461162679809150000</td>\n",
       "      <td>RT @NCTsmtown_127: #Johnny’s Photo Diary:Spain...</td>\n",
       "      <td>2021-11-18 02:41:44+00:00</td>\n",
       "      <td>1290910527393210112</td>\n",
       "      <td>en</td>\n",
       "      <td>44845</td>\n",
       "      <td>0</td>\n",
       "      <td>0</td>\n",
       "      <td>14948</td>\n",
       "    </tr>\n",
       "    <tr>\n",
       "      <th>23656</th>\n",
       "      <td>23656</td>\n",
       "      <td>1461157780664900000</td>\n",
       "      <td>RT @NCTsmtown_127: #Johnny’s Photo Diary:Spain...</td>\n",
       "      <td>2021-11-18 02:22:16+00:00</td>\n",
       "      <td>1101831422631800064</td>\n",
       "      <td>en</td>\n",
       "      <td>43945</td>\n",
       "      <td>0</td>\n",
       "      <td>0</td>\n",
       "      <td>14648</td>\n",
       "    </tr>\n",
       "    <tr>\n",
       "      <th>8820</th>\n",
       "      <td>8820</td>\n",
       "      <td>1461371211343020000</td>\n",
       "      <td>RT @NCTsmtown_127: #Johnny’s Photo Diary:Spain...</td>\n",
       "      <td>2021-11-18 16:30:22+00:00</td>\n",
       "      <td>1168957082</td>\n",
       "      <td>en</td>\n",
       "      <td>43945</td>\n",
       "      <td>0</td>\n",
       "      <td>0</td>\n",
       "      <td>14648</td>\n",
       "    </tr>\n",
       "    <tr>\n",
       "      <th>39357</th>\n",
       "      <td>39357</td>\n",
       "      <td>1461649200882400000</td>\n",
       "      <td>RT @NCTsmtown_127: Spain here we goooooo\\n\\n#N...</td>\n",
       "      <td>2021-11-19 10:55:00+00:00</td>\n",
       "      <td>1064006291087970048</td>\n",
       "      <td>en</td>\n",
       "      <td>35930</td>\n",
       "      <td>0</td>\n",
       "      <td>0</td>\n",
       "      <td>11977</td>\n",
       "    </tr>\n",
       "    <tr>\n",
       "      <th>45373</th>\n",
       "      <td>45373</td>\n",
       "      <td>1461537918900600000</td>\n",
       "      <td>RT @NCTsmtown_127: #Johnny’s Photo Diary:Spain...</td>\n",
       "      <td>2021-11-19 03:32:48+00:00</td>\n",
       "      <td>1382234880465979904</td>\n",
       "      <td>en</td>\n",
       "      <td>34538</td>\n",
       "      <td>0</td>\n",
       "      <td>0</td>\n",
       "      <td>11513</td>\n",
       "    </tr>\n",
       "  </tbody>\n",
       "</table>\n",
       "</div>"
      ],
      "text/plain": [
       "       Unnamed: 0            tweeet.id  \\\n",
       "23467       23467  1461162679809150000   \n",
       "23656       23656  1461157780664900000   \n",
       "8820         8820  1461371211343020000   \n",
       "39357       39357  1461649200882400000   \n",
       "45373       45373  1461537918900600000   \n",
       "\n",
       "                                              tweet.text  \\\n",
       "23467  RT @NCTsmtown_127: #Johnny’s Photo Diary:Spain...   \n",
       "23656  RT @NCTsmtown_127: #Johnny’s Photo Diary:Spain...   \n",
       "8820   RT @NCTsmtown_127: #Johnny’s Photo Diary:Spain...   \n",
       "39357  RT @NCTsmtown_127: Spain here we goooooo\\n\\n#N...   \n",
       "45373  RT @NCTsmtown_127: #Johnny’s Photo Diary:Spain...   \n",
       "\n",
       "                tweet.created_at     tweet.author_id tweet.lang  \\\n",
       "23467  2021-11-18 02:41:44+00:00 1290910527393210112         en   \n",
       "23656  2021-11-18 02:22:16+00:00 1101831422631800064         en   \n",
       "8820   2021-11-18 16:30:22+00:00          1168957082         en   \n",
       "39357  2021-11-19 10:55:00+00:00 1064006291087970048         en   \n",
       "45373  2021-11-19 03:32:48+00:00 1382234880465979904         en   \n",
       "\n",
       "       public_metrics.retweet_count  public_metrics.reply_count  \\\n",
       "23467                         44845                           0   \n",
       "23656                         43945                           0   \n",
       "8820                          43945                           0   \n",
       "39357                         35930                           0   \n",
       "45373                         34538                           0   \n",
       "\n",
       "       public_metrics.like_count  engagement_KPI  \n",
       "23467                          0           14948  \n",
       "23656                          0           14648  \n",
       "8820                           0           14648  \n",
       "39357                          0           11977  \n",
       "45373                          0           11513  "
      ]
     },
     "execution_count": 146,
     "metadata": {},
     "output_type": "execute_result"
    }
   ],
   "source": [
    "###Also let us consider the amplified conversation from the perspective of high KPI driven by retweets\n",
    "spainEnglishsortedKPI = spainEnglishAll.sort_values(by = 'engagement_KPI', ascending = False)\n",
    "spainEnglishsortedKPI.head()"
   ]
  },
  {
   "cell_type": "markdown",
   "metadata": {},
   "source": [
    "Let us examine each of these above tweets using the url: https://twitter.com/anyuser/status/ appended by the 'tweet.id's found from the topamplifiedtweetsorted and spainEnglishsortedKPI"
   ]
  },
  {
   "cell_type": "markdown",
   "metadata": {},
   "source": [
    "The tweet ids to be examined are - 1461162679809150000, 1101831422631800064, 1461450207657340000, 1461735560435750000,1461806775594880000, 1461338150610080000, 1461295289608940000, 1461341020264740000, 1461225890226910000"
   ]
  },
  {
   "cell_type": "code",
   "execution_count": null,
   "metadata": {},
   "outputs": [],
   "source": []
  },
  {
   "cell_type": "markdown",
   "metadata": {},
   "source": [
    "**Amongst all above the highly amplified tweets the ones corresponding to the tweet.ids - 1461341020264742912, 1461295289608945670, 1461225890226917377, 1461806775594885122, 1461735560435752961 seemed to be polarized or misinforming because there were replies to those tweets countering them as misinformation. Also the tweet creators of these conversation are having large number of followers which is helping them to spread the polarized information. Below given are the tweets and the replies countering them about polarization or partial information or misinformation are -**"
   ]
  },
  {
   "cell_type": "markdown",
   "metadata": {},
   "source": [
    "\"Another day of sky high electricity prices in Europe, particularly in countries like France and Spain. For the later, it's the 4th highest day-ahead power price ever. European politicians who hoped for lower prices are beginning to realize that the winter has yet to start\" by @JavierBlas ( no of followers: 137.1K) - counter replies: 'Those with the cheapest prices, what do we know of their self-sufficiency at the very same time?', 'Relative to salary. Im sure portugal is highest', 'Why is germany that less expensive va France???', 'It is not.\n",
    "That's only the market price.Germans on top of that pay ~32 B€/y in subsidies (they call them \"feed in tariffs\") for the renewbabbles, that's more than 100€/MWh for each REN MWh.'"
   ]
  },
  {
   "cell_type": "markdown",
   "metadata": {},
   "source": [
    "'In the last 20 years Spain has built 1,900 mil...' by @iambadatlife (no of followers:12.2k) - counter replies: 'Spain is 505,000sqkm. Four and half times England. Mind they have bankrupted RENFE and only two lines pay there way.'"
   ]
  },
  {
   "cell_type": "markdown",
   "metadata": {},
   "source": [
    "\"Searching 100x #memecoin in this peace 😻\\n\\nOu...\" by @gems_1000 (no of followers: 178.3k) - counter replies: 'Why do you search memecoins? I guess it's better to find a project with a good perspective and buy their tokens'"
   ]
  },
  {
   "cell_type": "markdown",
   "metadata": {},
   "source": [
    "\" From Spain: Manchester United are ready to bid...\" by @utdreport ( no of followers: 743.4k) - counter replies: 'He just signed a 7 year contract why the hell are you even reporting this'"
   ]
  },
  {
   "cell_type": "markdown",
   "metadata": {},
   "source": [
    "\"What if Lionel Messi picked Spain over Argent...\" by @loal_worldwide (no of followers: 1827) - counter replies: \"210 goals?\n",
    "😭\n",
    "if ronaldo has 100+\n",
    "what makes u think messi would have 200+?\""
   ]
  },
  {
   "cell_type": "code",
   "execution_count": null,
   "metadata": {},
   "outputs": [],
   "source": []
  },
  {
   "cell_type": "code",
   "execution_count": null,
   "metadata": {},
   "outputs": [],
   "source": []
  },
  {
   "cell_type": "markdown",
   "metadata": {},
   "source": [
    "## Question 3. Compute the z-score of the column \"public_metrics.retweet_count\" (15 points)\n",
    "## tip: refer to the definition of Z-score at\" https://www.statisticshowto.com/probability-and-statistics/z-score/"
   ]
  },
  {
   "cell_type": "markdown",
   "metadata": {},
   "source": [
    "Calculate the mean and the standard deviation then calculate the z-score of each element in the column and add the values as another column. Look if the values follow a normal distribution."
   ]
  },
  {
   "cell_type": "code",
   "execution_count": 35,
   "metadata": {},
   "outputs": [
    {
     "name": "stdout",
     "output_type": "stream",
     "text": [
      "233.72148011022992\n",
      "959.4952629778896\n"
     ]
    }
   ],
   "source": [
    "mean_retweet_count = spainEnglishAll['public_metrics.retweet_count'].mean()\n",
    "sd_retweet_count = spainEnglishAll['public_metrics.retweet_count'].std()\n",
    "print(mean_retweet_count)\n",
    "print(sd_retweet_count)"
   ]
  },
  {
   "cell_type": "code",
   "execution_count": 36,
   "metadata": {},
   "outputs": [],
   "source": [
    "spainEnglishAll['retweet_count_zscore'] = (spainEnglishAll['public_metrics.retweet_count'] - mean_retweet_count)/sd_retweet_count"
   ]
  },
  {
   "cell_type": "markdown",
   "metadata": {},
   "source": [
    "As an alternative approach we can use a function to calculate the zscore and store it in a new column"
   ]
  },
  {
   "cell_type": "code",
   "execution_count": 37,
   "metadata": {},
   "outputs": [
    {
     "data": {
      "text/plain": [
       "Index(['Unnamed: 0', 'tweeet.id', 'tweet.text', 'tweet.created_at',\n",
       "       'tweet.author_id', 'tweet.lang', 'public_metrics.retweet_count',\n",
       "       'public_metrics.reply_count', 'public_metrics.like_count',\n",
       "       'retweet_count_zscore', 'reply_count_zscore', 'like_count_zscore'],\n",
       "      dtype='object')"
      ]
     },
     "execution_count": 37,
     "metadata": {},
     "output_type": "execute_result"
    }
   ],
   "source": [
    "spainEnglishAll.columns"
   ]
  },
  {
   "cell_type": "code",
   "execution_count": 38,
   "metadata": {},
   "outputs": [],
   "source": [
    "zscore1 = spainEnglishAll['public_metrics.retweet_count'].apply(lambda x: (x- mean_retweet_count)/sd_retweet_count)"
   ]
  },
  {
   "cell_type": "code",
   "execution_count": 39,
   "metadata": {},
   "outputs": [],
   "source": [
    "##spainEnglishAll['retweet_count_zscore'] = zscore1"
   ]
  },
  {
   "cell_type": "markdown",
   "metadata": {},
   "source": [
    "Another alternate way is to create a function which takes a series and calculates the z-score foe each of the element"
   ]
  },
  {
   "cell_type": "code",
   "execution_count": 40,
   "metadata": {},
   "outputs": [],
   "source": [
    "def zscorefunc(ser1):\n",
    "    list1 = []\n",
    "    meanval = ser1.mean()\n",
    "    sdval = ser1.std()\n",
    "    for i in ser1:\n",
    "        list1.append((i-meanval)/sdval)\n",
    "    return list1"
   ]
  },
  {
   "cell_type": "code",
   "execution_count": 41,
   "metadata": {},
   "outputs": [],
   "source": [
    "zscore2 = zscorefunc(spainEnglishAll['public_metrics.retweet_count'])"
   ]
  },
  {
   "cell_type": "code",
   "execution_count": 42,
   "metadata": {},
   "outputs": [
    {
     "name": "stdout",
     "output_type": "stream",
     "text": [
      "505     nan\n",
      "3806    nan\n",
      "6633    nan\n",
      "15774   nan\n",
      "26917   nan\n",
      "27172   nan\n",
      "37614   nan\n",
      "38124   nan\n",
      "41275   nan\n",
      "41350   nan\n",
      "42106   nan\n",
      "44420   nan\n",
      "45141   nan\n",
      "Name: public_metrics.retweet_count, dtype: float64\n"
     ]
    }
   ],
   "source": [
    "zscore1 == zscore2\n",
    "print(zscore1[(zscore1 != zscore2)])"
   ]
  },
  {
   "cell_type": "code",
   "execution_count": 43,
   "metadata": {},
   "outputs": [
    {
     "data": {
      "text/plain": [
       "505     nan\n",
       "3806    nan\n",
       "6633    nan\n",
       "15774   nan\n",
       "26917   nan\n",
       "27172   nan\n",
       "37614   nan\n",
       "38124   nan\n",
       "41275   nan\n",
       "41350   nan\n",
       "42106   nan\n",
       "44420   nan\n",
       "45141   nan\n",
       "Name: retweet_count_zscore, dtype: float64"
      ]
     },
     "execution_count": 43,
     "metadata": {},
     "output_type": "execute_result"
    }
   ],
   "source": [
    "spainEnglishAll['retweet_count_zscore'][(zscore1 != spainEnglishAll['retweet_count_zscore'])]"
   ]
  },
  {
   "cell_type": "markdown",
   "metadata": {},
   "source": [
    "Thus we have seen that the zscores calculated by all the three approaches are same. There were few nan values which are generated for the nan values of the retweet_count"
   ]
  },
  {
   "cell_type": "markdown",
   "metadata": {},
   "source": [
    "Thus we can feed any of these three series and create a desired column in the dataset."
   ]
  },
  {
   "cell_type": "code",
   "execution_count": null,
   "metadata": {},
   "outputs": [],
   "source": []
  },
  {
   "cell_type": "markdown",
   "metadata": {},
   "source": [
    "## Question 4. Filter conversations with a z-score larger than 10. (15 points)"
   ]
  },
  {
   "cell_type": "markdown",
   "metadata": {},
   "source": [
    "Take the score of z-score 10 and from the z-score column take the records of values > 10"
   ]
  },
  {
   "cell_type": "code",
   "execution_count": 44,
   "metadata": {},
   "outputs": [],
   "source": [
    "spainEnglishHighzscoredata = spainEnglishAll[(spainEnglishAll['retweet_count_zscore'] > 10)]"
   ]
  },
  {
   "cell_type": "code",
   "execution_count": 45,
   "metadata": {},
   "outputs": [
    {
     "name": "stdout",
     "output_type": "stream",
     "text": [
      "<class 'pandas.core.frame.DataFrame'>\n",
      "Int64Index: 62 entries, 859 to 45378\n",
      "Data columns (total 12 columns):\n",
      " #   Column                        Non-Null Count  Dtype  \n",
      "---  ------                        --------------  -----  \n",
      " 0   Unnamed: 0                    62 non-null     int64  \n",
      " 1   tweeet.id                     62 non-null     object \n",
      " 2   tweet.text                    62 non-null     object \n",
      " 3   tweet.created_at              62 non-null     object \n",
      " 4   tweet.author_id               62 non-null     float64\n",
      " 5   tweet.lang                    62 non-null     object \n",
      " 6   public_metrics.retweet_count  62 non-null     float64\n",
      " 7   public_metrics.reply_count    62 non-null     float64\n",
      " 8   public_metrics.like_count     62 non-null     float64\n",
      " 9   retweet_count_zscore          62 non-null     float64\n",
      " 10  reply_count_zscore            62 non-null     float64\n",
      " 11  like_count_zscore             62 non-null     float64\n",
      "dtypes: float64(7), int64(1), object(4)\n",
      "memory usage: 6.3+ KB\n"
     ]
    }
   ],
   "source": [
    "spainEnglishHighzscoredata.info()"
   ]
  },
  {
   "cell_type": "code",
   "execution_count": 46,
   "metadata": {},
   "outputs": [
    {
     "data": {
      "text/html": [
       "<div>\n",
       "<style scoped>\n",
       "    .dataframe tbody tr th:only-of-type {\n",
       "        vertical-align: middle;\n",
       "    }\n",
       "\n",
       "    .dataframe tbody tr th {\n",
       "        vertical-align: top;\n",
       "    }\n",
       "\n",
       "    .dataframe thead th {\n",
       "        text-align: right;\n",
       "    }\n",
       "</style>\n",
       "<table border=\"1\" class=\"dataframe\">\n",
       "  <thead>\n",
       "    <tr style=\"text-align: right;\">\n",
       "      <th></th>\n",
       "      <th>Unnamed: 0</th>\n",
       "      <th>tweet.author_id</th>\n",
       "      <th>public_metrics.retweet_count</th>\n",
       "      <th>public_metrics.reply_count</th>\n",
       "      <th>public_metrics.like_count</th>\n",
       "      <th>retweet_count_zscore</th>\n",
       "      <th>reply_count_zscore</th>\n",
       "      <th>like_count_zscore</th>\n",
       "    </tr>\n",
       "  </thead>\n",
       "  <tbody>\n",
       "    <tr>\n",
       "      <th>count</th>\n",
       "      <td>62</td>\n",
       "      <td>62</td>\n",
       "      <td>62</td>\n",
       "      <td>62</td>\n",
       "      <td>62</td>\n",
       "      <td>62</td>\n",
       "      <td>62</td>\n",
       "      <td>62</td>\n",
       "    </tr>\n",
       "    <tr>\n",
       "      <th>mean</th>\n",
       "      <td>26186</td>\n",
       "      <td>872064516532237440</td>\n",
       "      <td>18558</td>\n",
       "      <td>0</td>\n",
       "      <td>0</td>\n",
       "      <td>19</td>\n",
       "      <td>-0</td>\n",
       "      <td>-0</td>\n",
       "    </tr>\n",
       "    <tr>\n",
       "      <th>std</th>\n",
       "      <td>15448</td>\n",
       "      <td>578619409702242688</td>\n",
       "      <td>10621</td>\n",
       "      <td>0</td>\n",
       "      <td>0</td>\n",
       "      <td>11</td>\n",
       "      <td>0</td>\n",
       "      <td>0</td>\n",
       "    </tr>\n",
       "    <tr>\n",
       "      <th>min</th>\n",
       "      <td>859</td>\n",
       "      <td>16095339</td>\n",
       "      <td>9909</td>\n",
       "      <td>0</td>\n",
       "      <td>0</td>\n",
       "      <td>10</td>\n",
       "      <td>-0</td>\n",
       "      <td>-0</td>\n",
       "    </tr>\n",
       "    <tr>\n",
       "      <th>25%</th>\n",
       "      <td>11336</td>\n",
       "      <td>2943282844</td>\n",
       "      <td>9909</td>\n",
       "      <td>0</td>\n",
       "      <td>0</td>\n",
       "      <td>10</td>\n",
       "      <td>-0</td>\n",
       "      <td>-0</td>\n",
       "    </tr>\n",
       "    <tr>\n",
       "      <th>50%</th>\n",
       "      <td>23656</td>\n",
       "      <td>1110000000000000000</td>\n",
       "      <td>11273</td>\n",
       "      <td>0</td>\n",
       "      <td>0</td>\n",
       "      <td>12</td>\n",
       "      <td>-0</td>\n",
       "      <td>-0</td>\n",
       "    </tr>\n",
       "    <tr>\n",
       "      <th>75%</th>\n",
       "      <td>41892</td>\n",
       "      <td>1360000000000000000</td>\n",
       "      <td>26867</td>\n",
       "      <td>0</td>\n",
       "      <td>0</td>\n",
       "      <td>28</td>\n",
       "      <td>-0</td>\n",
       "      <td>-0</td>\n",
       "    </tr>\n",
       "    <tr>\n",
       "      <th>max</th>\n",
       "      <td>45378</td>\n",
       "      <td>1430000000000000000</td>\n",
       "      <td>44845</td>\n",
       "      <td>0</td>\n",
       "      <td>0</td>\n",
       "      <td>46</td>\n",
       "      <td>-0</td>\n",
       "      <td>-0</td>\n",
       "    </tr>\n",
       "  </tbody>\n",
       "</table>\n",
       "</div>"
      ],
      "text/plain": [
       "       Unnamed: 0     tweet.author_id  public_metrics.retweet_count  \\\n",
       "count          62                  62                            62   \n",
       "mean        26186  872064516532237440                         18558   \n",
       "std         15448  578619409702242688                         10621   \n",
       "min           859            16095339                          9909   \n",
       "25%         11336          2943282844                          9909   \n",
       "50%         23656 1110000000000000000                         11273   \n",
       "75%         41892 1360000000000000000                         26867   \n",
       "max         45378 1430000000000000000                         44845   \n",
       "\n",
       "       public_metrics.reply_count  public_metrics.like_count  \\\n",
       "count                          62                         62   \n",
       "mean                            0                          0   \n",
       "std                             0                          0   \n",
       "min                             0                          0   \n",
       "25%                             0                          0   \n",
       "50%                             0                          0   \n",
       "75%                             0                          0   \n",
       "max                             0                          0   \n",
       "\n",
       "       retweet_count_zscore  reply_count_zscore  like_count_zscore  \n",
       "count                    62                  62                 62  \n",
       "mean                     19                  -0                 -0  \n",
       "std                      11                   0                  0  \n",
       "min                      10                  -0                 -0  \n",
       "25%                      10                  -0                 -0  \n",
       "50%                      12                  -0                 -0  \n",
       "75%                      28                  -0                 -0  \n",
       "max                      46                  -0                 -0  "
      ]
     },
     "execution_count": 46,
     "metadata": {},
     "output_type": "execute_result"
    }
   ],
   "source": [
    "spainEnglishHighzscoredata.describe()"
   ]
  },
  {
   "cell_type": "code",
   "execution_count": 50,
   "metadata": {},
   "outputs": [
    {
     "data": {
      "text/plain": [
       "array(['RT @viquirepublica: 📌This is the real problem in Catalonia .... Spain is a Fascist State \\nHow long are you going to shut up Europe? https:/…',\n",
       "       'RT @MesutOzil1088: I grew up as a @Fenerbahce fan as a kid in Germany - every German-Turkish person supports a Turkish team when they grow…',\n",
       "       'RT @TheeAzanian: Normalize posting these poor parts of Europe like they do with Africa. Cañada Real (just outside of Madrid), Spain. https:…',\n",
       "       'RT @NCTsmtown_127: #Johnny’s Photo Diary:Spain\\n\\n#Johntography\\n#NCT #NCT127\\n#JAEHYUN #MARK \\n#Spain #Sevilla https://t.co/jPNpBlVUcJ',\n",
       "       \"RT @NCTsmtown_127: #Johnny's Photo Diary:Spain\\n\\n#Johntography \\n#NCT #NCT127 #TAEYONG \\n#Spain #Sevilla https://t.co/8CJuEZDXER\",\n",
       "       'RT @bubbaprog: Here is how the Nicki Minaj story was covered on CNC3 Television in Port of Spain, Trinidad. I assure you this is worth all…',\n",
       "       'RT @NCTsmtown_127: Amazing time in SPAIN🇪🇸\\nGracias!!\\n\\n#NCT #NCT127 #JAEHYUN\\n#MTVEMA @mtv @mtvema https://t.co/GleI9Lx9wC',\n",
       "       \"RT @NCTsmtown_127: #Johnny 's Photo Diary:Spain\\n\\n#Johntography \\n#NCT #NCT127 #JAEHYUN\\n#Spain #Sevilla https://t.co/7kFerMPKyq\",\n",
       "       'RT @NCTsmtown_127: #Johnny’s Photo Diary:Spain\\n\\n#Johntography \\n#NCT #NCT127 #JAEHYUN\\n#Spain #Sevilla https://t.co/pzRbU9G82o',\n",
       "       'RT @NCTsmtown_127: #Johnny’s Photo Diary:Spain\\n\\n#Johntography\\n#NCT #NCT127 #DOYOUNG \\n#Spain #Sevilla https://t.co/XFbjF6fXt2',\n",
       "       'RT @NCTsmtown_127: #Johnny’s Photo Diary:Spain\\n\\n#Johntography \\n#NCT #NCT127 #DOYOUNG \\n#Spain #Sevilla https://t.co/k6s9q2YMw7',\n",
       "       'RT @AfricanArchives: African moors, who conquered Spain and ruled it for 700 years, were responsible for bringing Europe out of the dark ag…',\n",
       "       'RT @NCTsmtown_127: Spain here we goooooo\\n\\n#NCT #NCT127 #MARK\\n#NCT127inSpain https://t.co/3kuRW5nG1f',\n",
       "       \"RT @NCTsmtown_127: #Johnny 's Photo Diary:Spain\\n\\n#Johntography \\n#NCT #NCT127 #TAEIL \\n#Spain #Sevilla https://t.co/P2eRGildIN\",\n",
       "       \"RT @NCTsmtown_127: #Johnny 's Photo Diary:Spain\\n\\n#Johntography \\n#NCT #NCT127 #DOYOUNG \\n#Spain #Sevilla https://t.co/sC4u82eGYQ\",\n",
       "       'RT @LAPXURADELBUIO: what is happening in spain - a thread:',\n",
       "       'RT @NCTsmtown_127: #Johnny’s Photo Diary:Spain\\n📸 by #DOYOUNG \\n\\n#NCT #NCT127\\n#Spain #Sevilla https://t.co/0Vn0A4EPd4',\n",
       "       'RT @NCTsmtown_127: #Johnny’s Photo Diary:Spain\\n\\n#NCT #NCT127 \\n#Spain #Sevilla https://t.co/2xGKANRyR2',\n",
       "       \"RT @NCTsmtown_127: #Johnny 's Photo Diary:Spain\\n\\n#NCT #NCT127\\n#Spain #Sevilla https://t.co/HDFzIEXW0F\",\n",
       "       \"RT @NCTsmtown_127: #Johnny's Photo Diary:Spain\\n\\n#NCT #NCT127\\n#Spain #Sevilla https://t.co/dfeRxHujtd\",\n",
       "       \"RT @NCTsmtown_127: #Johnny 's Photo Diary:Spain\\n\\n#NCT #NCT127\\n#Spain #Sevilla https://t.co/UAqpnZa6Wt\",\n",
       "       \"RT @NCTsmtown_127: #Johnny 's Photo Diary:Spain\\n\\n#NCT #NCT127\\n#Spain #Sevilla https://t.co/ohGvcNwi3Q\",\n",
       "       'RT @NCTsmtown_127: #Johnny’s Photo Diary:Spain\\n\\n#Johntography \\n#NCT #NCT127\\n#Spain #Sevilla https://t.co/11xjaXYrMh'],\n",
       "      dtype=object)"
      ]
     },
     "execution_count": 50,
     "metadata": {},
     "output_type": "execute_result"
    }
   ],
   "source": [
    "###The conversations with z-score > 10 are\n",
    "spainEnglishHighzscoredata['tweet.text'].unique()"
   ]
  },
  {
   "cell_type": "code",
   "execution_count": null,
   "metadata": {},
   "outputs": [],
   "source": []
  },
  {
   "cell_type": "markdown",
   "metadata": {},
   "source": [
    "## Question 5. Find the top 5 amplifiers (15 points)\n",
    "### we consider amplifiers those twitter users who are involved in highly amplified conversations"
   ]
  },
  {
   "cell_type": "markdown",
   "metadata": {},
   "source": [
    "Extract the top 5 tweet.ids of the top highly amplified conversations i.e. 'tweet.text' from the top deciles (or Z scores)"
   ]
  },
  {
   "cell_type": "markdown",
   "metadata": {},
   "source": [
    "The top 5 amplifiers if we go by the z-scores of retweet counts"
   ]
  },
  {
   "cell_type": "code",
   "execution_count": 51,
   "metadata": {},
   "outputs": [],
   "source": [
    "spainEnglishAll['retweet_zscore'] = zscore2 ##as calculated by using the function zscorefunc"
   ]
  },
  {
   "cell_type": "code",
   "execution_count": 71,
   "metadata": {},
   "outputs": [
    {
     "data": {
      "text/html": [
       "<div>\n",
       "<style scoped>\n",
       "    .dataframe tbody tr th:only-of-type {\n",
       "        vertical-align: middle;\n",
       "    }\n",
       "\n",
       "    .dataframe tbody tr th {\n",
       "        vertical-align: top;\n",
       "    }\n",
       "\n",
       "    .dataframe thead th {\n",
       "        text-align: right;\n",
       "    }\n",
       "</style>\n",
       "<table border=\"1\" class=\"dataframe\">\n",
       "  <thead>\n",
       "    <tr style=\"text-align: right;\">\n",
       "      <th></th>\n",
       "      <th>Unnamed: 0</th>\n",
       "      <th>tweeet.id</th>\n",
       "      <th>tweet.text</th>\n",
       "      <th>tweet.created_at</th>\n",
       "      <th>tweet.author_id</th>\n",
       "      <th>tweet.lang</th>\n",
       "      <th>public_metrics.retweet_count</th>\n",
       "      <th>public_metrics.reply_count</th>\n",
       "      <th>public_metrics.like_count</th>\n",
       "      <th>retweet_count_zscore</th>\n",
       "      <th>reply_count_zscore</th>\n",
       "      <th>like_count_zscore</th>\n",
       "      <th>retweet_zscore</th>\n",
       "    </tr>\n",
       "  </thead>\n",
       "  <tbody>\n",
       "    <tr>\n",
       "      <th>0</th>\n",
       "      <td>0</td>\n",
       "      <td>1.46148E+18</td>\n",
       "      <td>RT @ESPNFC: EURO 2008 top scorer: Villa ⚽️\\nWo...</td>\n",
       "      <td>2021-11-18 23:58:54+00:00</td>\n",
       "      <td>3239744421</td>\n",
       "      <td>en</td>\n",
       "      <td>1568</td>\n",
       "      <td>0</td>\n",
       "      <td>0</td>\n",
       "      <td>1</td>\n",
       "      <td>-0</td>\n",
       "      <td>-0</td>\n",
       "      <td>1</td>\n",
       "    </tr>\n",
       "    <tr>\n",
       "      <th>1</th>\n",
       "      <td>1</td>\n",
       "      <td>1.46148E+18</td>\n",
       "      <td>RT @MrGeepGeep: SOE is over and now is the tim...</td>\n",
       "      <td>2021-11-18 23:58:52+00:00</td>\n",
       "      <td>2312771653</td>\n",
       "      <td>en</td>\n",
       "      <td>38</td>\n",
       "      <td>0</td>\n",
       "      <td>0</td>\n",
       "      <td>-0</td>\n",
       "      <td>-0</td>\n",
       "      <td>-0</td>\n",
       "      <td>-0</td>\n",
       "    </tr>\n",
       "    <tr>\n",
       "      <th>2</th>\n",
       "      <td>2</td>\n",
       "      <td>1.46148E+18</td>\n",
       "      <td>RT @AnittaCrave: \"Envolver\" — by Anitta will d...</td>\n",
       "      <td>2021-11-18 23:58:43+00:00</td>\n",
       "      <td>1300000000000000000</td>\n",
       "      <td>en</td>\n",
       "      <td>90</td>\n",
       "      <td>0</td>\n",
       "      <td>0</td>\n",
       "      <td>-0</td>\n",
       "      <td>-0</td>\n",
       "      <td>-0</td>\n",
       "      <td>-0</td>\n",
       "    </tr>\n",
       "    <tr>\n",
       "      <th>3</th>\n",
       "      <td>3</td>\n",
       "      <td>1.46148E+18</td>\n",
       "      <td>Men jewelry  - Madrid, Spain \\n@GuilleRBRB htt...</td>\n",
       "      <td>2021-11-18 23:58:29+00:00</td>\n",
       "      <td>1070000000000000000</td>\n",
       "      <td>en</td>\n",
       "      <td>0</td>\n",
       "      <td>0</td>\n",
       "      <td>5</td>\n",
       "      <td>-0</td>\n",
       "      <td>-0</td>\n",
       "      <td>0</td>\n",
       "      <td>-0</td>\n",
       "    </tr>\n",
       "    <tr>\n",
       "      <th>4</th>\n",
       "      <td>4</td>\n",
       "      <td>1.46148E+18</td>\n",
       "      <td>RT @Foreign_Cat: #Turkey &amp;amp; #Spain, partner...</td>\n",
       "      <td>2021-11-18 23:58:28+00:00</td>\n",
       "      <td>1140000000000000000</td>\n",
       "      <td>en</td>\n",
       "      <td>34</td>\n",
       "      <td>0</td>\n",
       "      <td>0</td>\n",
       "      <td>-0</td>\n",
       "      <td>-0</td>\n",
       "      <td>-0</td>\n",
       "      <td>-0</td>\n",
       "    </tr>\n",
       "  </tbody>\n",
       "</table>\n",
       "</div>"
      ],
      "text/plain": [
       "   Unnamed: 0    tweeet.id                                         tweet.text  \\\n",
       "0           0  1.46148E+18  RT @ESPNFC: EURO 2008 top scorer: Villa ⚽️\\nWo...   \n",
       "1           1  1.46148E+18  RT @MrGeepGeep: SOE is over and now is the tim...   \n",
       "2           2  1.46148E+18  RT @AnittaCrave: \"Envolver\" — by Anitta will d...   \n",
       "3           3  1.46148E+18  Men jewelry  - Madrid, Spain \\n@GuilleRBRB htt...   \n",
       "4           4  1.46148E+18  RT @Foreign_Cat: #Turkey &amp; #Spain, partner...   \n",
       "\n",
       "            tweet.created_at     tweet.author_id tweet.lang  \\\n",
       "0  2021-11-18 23:58:54+00:00          3239744421         en   \n",
       "1  2021-11-18 23:58:52+00:00          2312771653         en   \n",
       "2  2021-11-18 23:58:43+00:00 1300000000000000000         en   \n",
       "3  2021-11-18 23:58:29+00:00 1070000000000000000         en   \n",
       "4  2021-11-18 23:58:28+00:00 1140000000000000000         en   \n",
       "\n",
       "   public_metrics.retweet_count  public_metrics.reply_count  \\\n",
       "0                          1568                           0   \n",
       "1                            38                           0   \n",
       "2                            90                           0   \n",
       "3                             0                           0   \n",
       "4                            34                           0   \n",
       "\n",
       "   public_metrics.like_count  retweet_count_zscore  reply_count_zscore  \\\n",
       "0                          0                     1                  -0   \n",
       "1                          0                    -0                  -0   \n",
       "2                          0                    -0                  -0   \n",
       "3                          5                    -0                  -0   \n",
       "4                          0                    -0                  -0   \n",
       "\n",
       "   like_count_zscore  retweet_zscore  \n",
       "0                 -0               1  \n",
       "1                 -0              -0  \n",
       "2                 -0              -0  \n",
       "3                  0              -0  \n",
       "4                 -0              -0  "
      ]
     },
     "execution_count": 71,
     "metadata": {},
     "output_type": "execute_result"
    }
   ],
   "source": [
    "spainEnglishAll.head(n=5)"
   ]
  },
  {
   "cell_type": "code",
   "execution_count": 59,
   "metadata": {},
   "outputs": [],
   "source": [
    "spainEngsorted = spainEnglishAll.sort_values('retweet_zscore', ascending = False)"
   ]
  },
  {
   "cell_type": "code",
   "execution_count": 67,
   "metadata": {},
   "outputs": [
    {
     "name": "stdout",
     "output_type": "stream",
     "text": [
      "22777\n",
      "(47550, 13)\n"
     ]
    }
   ],
   "source": [
    "print(len(spainEngsorted['tweet.text'].unique()))\n",
    "print(spainEngsorted.shape)"
   ]
  },
  {
   "cell_type": "markdown",
   "metadata": {},
   "source": [
    "From the data we observed that, there are only 22777 unique tweet.texts against 47550 records. But the same tweet texts have been tweeted by different tweet.ids or tweet.users, or by the same ids at different times.\n",
    "If we considers top amplifying tweeter users (even if they are are tweeting the same text) then the top ones as found from highest retweet zscore are: \n",
    "3239744421, 2312771653, 1300000000000000000, 1070000000000000000, 1140000000000000000"
   ]
  },
  {
   "cell_type": "markdown",
   "metadata": {},
   "source": [
    "Alternative approach:\n",
    "In this approach we can take those tweets which we get by scooping the top percentile scores for all the amplification proxies - retweet, reply and like. Then we take the top five tweets and the tweet users ids of those tweets."
   ]
  },
  {
   "cell_type": "code",
   "execution_count": 79,
   "metadata": {},
   "outputs": [],
   "source": [
    "###Let us create the top decile markers for the tweet amplification proxy variables.\n",
    "retweet_counttop80 = spainEnglishAll['public_metrics.retweet_count'].quantile(0.87)\n",
    "reply_counttop80 = spainEnglishAll['public_metrics.reply_count'].quantile(0.87)\n",
    "like_counttop80 = spainEnglishAll['public_metrics.like_count'].quantile(0.87)"
   ]
  },
  {
   "cell_type": "code",
   "execution_count": 80,
   "metadata": {},
   "outputs": [],
   "source": [
    "topamplifiedtweetdata = spainEnglishAll[(spainEnglishAll['public_metrics.retweet_count'] > retweet_counttop80) & (spainEnglishAll['public_metrics.reply_count'] > reply_counttop80) & (spainEnglishAll['public_metrics.like_count'] > like_counttop80)]"
   ]
  },
  {
   "cell_type": "code",
   "execution_count": 81,
   "metadata": {},
   "outputs": [
    {
     "data": {
      "text/html": [
       "<div>\n",
       "<style scoped>\n",
       "    .dataframe tbody tr th:only-of-type {\n",
       "        vertical-align: middle;\n",
       "    }\n",
       "\n",
       "    .dataframe tbody tr th {\n",
       "        vertical-align: top;\n",
       "    }\n",
       "\n",
       "    .dataframe thead th {\n",
       "        text-align: right;\n",
       "    }\n",
       "</style>\n",
       "<table border=\"1\" class=\"dataframe\">\n",
       "  <thead>\n",
       "    <tr style=\"text-align: right;\">\n",
       "      <th></th>\n",
       "      <th>Unnamed: 0</th>\n",
       "      <th>tweeet.id</th>\n",
       "      <th>tweet.text</th>\n",
       "      <th>tweet.created_at</th>\n",
       "      <th>tweet.author_id</th>\n",
       "      <th>tweet.lang</th>\n",
       "      <th>public_metrics.retweet_count</th>\n",
       "      <th>public_metrics.reply_count</th>\n",
       "      <th>public_metrics.like_count</th>\n",
       "      <th>retweet_count_zscore</th>\n",
       "      <th>reply_count_zscore</th>\n",
       "      <th>like_count_zscore</th>\n",
       "      <th>retweet_zscore</th>\n",
       "    </tr>\n",
       "  </thead>\n",
       "  <tbody>\n",
       "    <tr>\n",
       "      <th>2434</th>\n",
       "      <td>2434</td>\n",
       "      <td>1.46145E+18</td>\n",
       "      <td>EURO 2008 top scorer: Villa ⚽️\\nWorld Cup 2010...</td>\n",
       "      <td>2021-11-18 21:44:16+00:00</td>\n",
       "      <td>18091004</td>\n",
       "      <td>en</td>\n",
       "      <td>1568</td>\n",
       "      <td>740</td>\n",
       "      <td>15423</td>\n",
       "      <td>1</td>\n",
       "      <td>161</td>\n",
       "      <td>145</td>\n",
       "      <td>1</td>\n",
       "    </tr>\n",
       "    <tr>\n",
       "      <th>11438</th>\n",
       "      <td>11438</td>\n",
       "      <td>1.46134E+18</td>\n",
       "      <td>Another day of sky high electricity prices in ...</td>\n",
       "      <td>2021-11-18 14:30:24+00:00</td>\n",
       "      <td>1647573157</td>\n",
       "      <td>en</td>\n",
       "      <td>480</td>\n",
       "      <td>76</td>\n",
       "      <td>1011</td>\n",
       "      <td>0</td>\n",
       "      <td>17</td>\n",
       "      <td>9</td>\n",
       "      <td>0</td>\n",
       "    </tr>\n",
       "    <tr>\n",
       "      <th>11708</th>\n",
       "      <td>11708</td>\n",
       "      <td>1.46134E+18</td>\n",
       "      <td>Madrid, Spain 🇪🇸                #NaturePhotogr...</td>\n",
       "      <td>2021-11-18 14:19:00+00:00</td>\n",
       "      <td>1380000000000000000</td>\n",
       "      <td>en</td>\n",
       "      <td>861</td>\n",
       "      <td>61</td>\n",
       "      <td>4240</td>\n",
       "      <td>1</td>\n",
       "      <td>13</td>\n",
       "      <td>40</td>\n",
       "      <td>1</td>\n",
       "    </tr>\n",
       "    <tr>\n",
       "      <th>15636</th>\n",
       "      <td>15636</td>\n",
       "      <td>1.4613E+18</td>\n",
       "      <td>In the last 20 years Spain has built 1,900 mil...</td>\n",
       "      <td>2021-11-18 11:28:41+00:00</td>\n",
       "      <td>1662773784</td>\n",
       "      <td>en</td>\n",
       "      <td>658</td>\n",
       "      <td>57</td>\n",
       "      <td>2362</td>\n",
       "      <td>0</td>\n",
       "      <td>12</td>\n",
       "      <td>22</td>\n",
       "      <td>0</td>\n",
       "    </tr>\n",
       "    <tr>\n",
       "      <th>32805</th>\n",
       "      <td>32805</td>\n",
       "      <td>1.46174E+18</td>\n",
       "      <td>\"What if Lionel Messi picked Spain over Argent...</td>\n",
       "      <td>2021-11-19 16:38:09+00:00</td>\n",
       "      <td>1440000000000000000</td>\n",
       "      <td>en</td>\n",
       "      <td>895</td>\n",
       "      <td>138</td>\n",
       "      <td>12216</td>\n",
       "      <td>1</td>\n",
       "      <td>30</td>\n",
       "      <td>115</td>\n",
       "      <td>1</td>\n",
       "    </tr>\n",
       "  </tbody>\n",
       "</table>\n",
       "</div>"
      ],
      "text/plain": [
       "       Unnamed: 0    tweeet.id  \\\n",
       "2434         2434  1.46145E+18   \n",
       "11438       11438  1.46134E+18   \n",
       "11708       11708  1.46134E+18   \n",
       "15636       15636   1.4613E+18   \n",
       "32805       32805  1.46174E+18   \n",
       "\n",
       "                                              tweet.text  \\\n",
       "2434   EURO 2008 top scorer: Villa ⚽️\\nWorld Cup 2010...   \n",
       "11438  Another day of sky high electricity prices in ...   \n",
       "11708  Madrid, Spain 🇪🇸                #NaturePhotogr...   \n",
       "15636  In the last 20 years Spain has built 1,900 mil...   \n",
       "32805  \"What if Lionel Messi picked Spain over Argent...   \n",
       "\n",
       "                tweet.created_at     tweet.author_id tweet.lang  \\\n",
       "2434   2021-11-18 21:44:16+00:00            18091004         en   \n",
       "11438  2021-11-18 14:30:24+00:00          1647573157         en   \n",
       "11708  2021-11-18 14:19:00+00:00 1380000000000000000         en   \n",
       "15636  2021-11-18 11:28:41+00:00          1662773784         en   \n",
       "32805  2021-11-19 16:38:09+00:00 1440000000000000000         en   \n",
       "\n",
       "       public_metrics.retweet_count  public_metrics.reply_count  \\\n",
       "2434                           1568                         740   \n",
       "11438                           480                          76   \n",
       "11708                           861                          61   \n",
       "15636                           658                          57   \n",
       "32805                           895                         138   \n",
       "\n",
       "       public_metrics.like_count  retweet_count_zscore  reply_count_zscore  \\\n",
       "2434                       15423                     1                 161   \n",
       "11438                       1011                     0                  17   \n",
       "11708                       4240                     1                  13   \n",
       "15636                       2362                     0                  12   \n",
       "32805                      12216                     1                  30   \n",
       "\n",
       "       like_count_zscore  retweet_zscore  \n",
       "2434                 145               1  \n",
       "11438                  9               0  \n",
       "11708                 40               1  \n",
       "15636                 22               0  \n",
       "32805                115               1  "
      ]
     },
     "execution_count": 81,
     "metadata": {},
     "output_type": "execute_result"
    }
   ],
   "source": [
    "topamplifiedtweetdata"
   ]
  },
  {
   "cell_type": "markdown",
   "metadata": {},
   "source": [
    "After taking the top scores of the 87th percentile for each of the variables retweet, reply and like, we get the top 5 tweets and the respective amplifiers are - 18091004, 1647573157, 1380000000000000000, 1662773784, 1440000000000000000"
   ]
  },
  {
   "cell_type": "markdown",
   "metadata": {},
   "source": [
    "## Question 6. Extract, from the text colum, information on who created the conversation in the first place (15 points)\n",
    "### Tip: retweeted conversations start with the pattern RT@\n",
    "### For illustration purposes, the text \"RT @20splentyforus: France, like UK should set a national 30km/h or 20mph urban default limit.\" was originally created by @20splentyforus\n",
    "### Tip2. consider applying a regex pattern to the DataFrame using apply method"
   ]
  },
  {
   "cell_type": "markdown",
   "metadata": {},
   "source": [
    "At first we will create a regex pattern to identify the retweeted patterns and extract them."
   ]
  },
  {
   "cell_type": "code",
   "execution_count": 84,
   "metadata": {},
   "outputs": [],
   "source": [
    "import re"
   ]
  },
  {
   "cell_type": "code",
   "execution_count": 144,
   "metadata": {},
   "outputs": [],
   "source": [
    "retweetexp = r\"(RT\\s+@\\w+|RT@\\w+)\""
   ]
  },
  {
   "cell_type": "code",
   "execution_count": 161,
   "metadata": {},
   "outputs": [
    {
     "data": {
      "text/plain": [
       "'@splenty_forus'"
      ]
     },
     "execution_count": 161,
     "metadata": {},
     "output_type": "execute_result"
    }
   ],
   "source": [
    "obj = re.match(pattern = retweetexp, string = \"RT @splenty_forus: France, like UK should set a national 30km/h or 20mph urban default limit.\")\n",
    "str1 = obj[1]\n",
    "re.findall(pattern = \"@\\w+\", string = str1)[0]"
   ]
  },
  {
   "cell_type": "code",
   "execution_count": 249,
   "metadata": {},
   "outputs": [
    {
     "data": {
      "text/plain": [
       "0                RT @ESPNFC\n",
       "1            RT @MrGeepGeep\n",
       "2           RT @AnittaCrave\n",
       "3         mention not found\n",
       "4           RT @Foreign_Cat\n",
       "                ...        \n",
       "47545     mention not found\n",
       "47546    RT @ancientorigins\n",
       "47547     mention not found\n",
       "47548      RT @THEMAXHILTON\n",
       "47549     mention not found\n",
       "Name: retweet_mentions, Length: 47550, dtype: object"
      ]
     },
     "execution_count": 249,
     "metadata": {},
     "output_type": "execute_result"
    }
   ],
   "source": [
    "###At first let us create an array which stores all the extracted retweeted names\n",
    "mentions1 = spainEnglishAll['tweet.text'].apply(lambda str1: re.findall(pattern = retweetexp, string = str1))\n",
    "spainEnglishAll['retweet_mentions'] = spainEnglishAll['tweet.text'].apply(lambda str1: re.findall(pattern = retweetexp, string = str1)[0] if len(re.findall(pattern = retweetexp, string = str1)) > 0 else \"mention not found\")\n",
    "spainEnglishAll['retweet_mentions']"
   ]
  },
  {
   "cell_type": "markdown",
   "metadata": {},
   "source": [
    "Thus we create a column in the data which gives us all the retweet mentions. In case the tweet is not found with an mention it is mentioned that 'mention not found'. "
   ]
  },
  {
   "cell_type": "code",
   "execution_count": 261,
   "metadata": {},
   "outputs": [
    {
     "data": {
      "text/plain": [
       "3        Men jewelry  - Madrid, Spain \\n@GuilleRBRB htt...\n",
       "5        Just posted a photo @ Riells Del Fay, Cataluna...\n",
       "6        Spain castle Coca \\nI feel we're so close to g...\n",
       "11       @walkin90pod First soccer game: US/England 6/9...\n",
       "12       France and Spain is later revealed to be Italy...\n",
       "                               ...                        \n",
       "47542    i'm in spain without the s rn my back hurts so...\n",
       "47544    @Lisaelghaffour @TomasZdechovsky There are tho...\n",
       "47545    @only1womble @SimonJonesNews @pritipatel Someo...\n",
       "47547    On #Friday Amazing time in #SabatiniGardens #M...\n",
       "47549    #Barcelona Nov 19 01:00 Temperature 10C Wind N...\n",
       "Name: tweet.text, Length: 18805, dtype: object"
      ]
     },
     "execution_count": 261,
     "metadata": {},
     "output_type": "execute_result"
    }
   ],
   "source": [
    "###Let us quickly cross-check the data where the mentions are not found to assure they contain no retweet mentions\n",
    "spainEnglishAll[spainEnglishAll['retweet_mentions'] == \"mention not found\"]['tweet.text']"
   ]
  },
  {
   "cell_type": "code",
   "execution_count": 276,
   "metadata": {},
   "outputs": [
    {
     "data": {
      "text/plain": [
       "(28745, 15)"
      ]
     },
     "execution_count": 276,
     "metadata": {},
     "output_type": "execute_result"
    }
   ],
   "source": [
    "###Let us create a dataframe which contains only the data of the retweeted tweets.\n",
    "spainretweetdata = spainEnglishAll[spainEnglishAll['retweet_mentions'] != \"mention not found\"]\n",
    "spainretweetdata.head(n=5)\n",
    "spainretweetdata.shape"
   ]
  },
  {
   "cell_type": "code",
   "execution_count": 266,
   "metadata": {},
   "outputs": [
    {
     "name": "stderr",
     "output_type": "stream",
     "text": [
      "<ipython-input-266-0c0c5df73b8d>:1: SettingWithCopyWarning: \n",
      "A value is trying to be set on a copy of a slice from a DataFrame.\n",
      "Try using .loc[row_indexer,col_indexer] = value instead\n",
      "\n",
      "See the caveats in the documentation: https://pandas.pydata.org/pandas-docs/stable/user_guide/indexing.html#returning-a-view-versus-a-copy\n",
      "  spainretweetdata['conversation_creator'] = spainretweetdata['retweet_mentions'].apply(lambda str1: re.findall(pattern = r\"@\\w+\", string = str1)[0])\n"
     ]
    }
   ],
   "source": [
    "spainretweetdata['conversation_creator'] = spainretweetdata['retweet_mentions'].apply(lambda str1: re.findall(pattern = r\"@\\w+\", string = str1)[0])"
   ]
  },
  {
   "cell_type": "code",
   "execution_count": 269,
   "metadata": {},
   "outputs": [],
   "source": [
    "##An alternate way\n",
    "spainEnglishAll['conversation_creator'] = spainEnglishAll['retweet_mentions'].apply(lambda str1: re.findall(pattern = r\"@\\w+\", string = str1)[0] if str1 != 'mention not found' else \"tweet user id is the creator\")"
   ]
  },
  {
   "cell_type": "code",
   "execution_count": 270,
   "metadata": {},
   "outputs": [
    {
     "data": {
      "text/plain": [
       "0                             @ESPNFC\n",
       "1                         @MrGeepGeep\n",
       "2                        @AnittaCrave\n",
       "3        tweet user id is the creator\n",
       "4                        @Foreign_Cat\n",
       "                     ...             \n",
       "47545    tweet user id is the creator\n",
       "47546                 @ancientorigins\n",
       "47547    tweet user id is the creator\n",
       "47548                   @THEMAXHILTON\n",
       "47549    tweet user id is the creator\n",
       "Name: conversation_creator, Length: 47550, dtype: object"
      ]
     },
     "execution_count": 270,
     "metadata": {},
     "output_type": "execute_result"
    }
   ],
   "source": [
    "spainEnglishAll['conversation_creator']"
   ]
  },
  {
   "cell_type": "code",
   "execution_count": 272,
   "metadata": {},
   "outputs": [
    {
     "data": {
      "text/plain": [
       "0                @ESPNFC\n",
       "1            @MrGeepGeep\n",
       "2           @AnittaCrave\n",
       "4           @Foreign_Cat\n",
       "7        @KeithOlbermann\n",
       "              ...       \n",
       "47538          @BintingM\n",
       "47539             @MLMIF\n",
       "47543            @ESPNFC\n",
       "47546    @ancientorigins\n",
       "47548      @THEMAXHILTON\n",
       "Name: conversation_creator, Length: 28745, dtype: object"
      ]
     },
     "execution_count": 272,
     "metadata": {},
     "output_type": "execute_result"
    }
   ],
   "source": [
    "spainretweetdata['conversation_creator']"
   ]
  },
  {
   "cell_type": "code",
   "execution_count": null,
   "metadata": {},
   "outputs": [],
   "source": []
  },
  {
   "cell_type": "code",
   "execution_count": null,
   "metadata": {},
   "outputs": [],
   "source": []
  },
  {
   "cell_type": "code",
   "execution_count": 274,
   "metadata": {},
   "outputs": [],
   "source": [
    "###Thus the column 'conversation_creator' in the data gives us the names of the creator the conversations."
   ]
  },
  {
   "cell_type": "code",
   "execution_count": null,
   "metadata": {},
   "outputs": [],
   "source": []
  },
  {
   "cell_type": "code",
   "execution_count": null,
   "metadata": {},
   "outputs": [],
   "source": []
  },
  {
   "cell_type": "markdown",
   "metadata": {},
   "source": [
    "## Question 7. Please briefly reflect on how would you try to mitigate misinformation on social media (2 paragraphs maximum). (10 points)"
   ]
  },
  {
   "cell_type": "code",
   "execution_count": 277,
   "metadata": {},
   "outputs": [],
   "source": [
    "###Group by the conversation creators and the tweet.texts and create word clouds for the top amplified tweets. Extract the hashtags and create work cloud for the hashtags. \n",
    "###The most amplified and polarized hastags conversations should be observed."
   ]
  },
  {
   "cell_type": "code",
   "execution_count": null,
   "metadata": {},
   "outputs": [],
   "source": []
  },
  {
   "cell_type": "code",
   "execution_count": 278,
   "metadata": {},
   "outputs": [],
   "source": [
    "###developing an algorithm to scan misinformation tweets using negative or positive words scan and then engaging and replying to counter those tweets."
   ]
  },
  {
   "cell_type": "code",
   "execution_count": null,
   "metadata": {},
   "outputs": [],
   "source": []
  },
  {
   "cell_type": "code",
   "execution_count": null,
   "metadata": {},
   "outputs": [],
   "source": []
  },
  {
   "cell_type": "code",
   "execution_count": null,
   "metadata": {},
   "outputs": [],
   "source": []
  },
  {
   "cell_type": "code",
   "execution_count": null,
   "metadata": {},
   "outputs": [],
   "source": []
  },
  {
   "cell_type": "code",
   "execution_count": null,
   "metadata": {},
   "outputs": [],
   "source": []
  }
 ],
 "metadata": {
  "kernelspec": {
   "display_name": "Python 3",
   "language": "python",
   "name": "python3"
  },
  "language_info": {
   "codemirror_mode": {
    "name": "ipython",
    "version": 3
   },
   "file_extension": ".py",
   "mimetype": "text/x-python",
   "name": "python",
   "nbconvert_exporter": "python",
   "pygments_lexer": "ipython3",
   "version": "3.8.5"
  }
 },
 "nbformat": 4,
 "nbformat_minor": 4
}
